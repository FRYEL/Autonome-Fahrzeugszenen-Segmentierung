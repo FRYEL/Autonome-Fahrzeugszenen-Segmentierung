{
 "cells": [
  {
   "metadata": {
    "ExecuteTime": {
     "end_time": "2025-05-07T13:17:11.703025Z",
     "start_time": "2025-05-07T13:17:11.685758Z"
    }
   },
   "cell_type": "code",
   "source": [
    "from pandaset import DataSet\n",
    "dataset = DataSet('data')"
   ],
   "id": "6ae60187a010ab2e",
   "outputs": [],
   "execution_count": 62
  },
  {
   "metadata": {
    "ExecuteTime": {
     "end_time": "2025-05-07T13:17:13.557732Z",
     "start_time": "2025-05-07T13:17:13.544536Z"
    }
   },
   "cell_type": "code",
   "source": "dataset.sequences()",
   "id": "5335588c940456bc",
   "outputs": [
    {
     "data": {
      "text/plain": [
       "['001']"
      ]
     },
     "execution_count": 63,
     "metadata": {},
     "output_type": "execute_result"
    }
   ],
   "execution_count": 63
  },
  {
   "metadata": {
    "ExecuteTime": {
     "end_time": "2025-05-07T13:17:15.246220Z",
     "start_time": "2025-05-07T13:17:15.238005Z"
    }
   },
   "cell_type": "code",
   "source": "dataset.sequences(with_semseg=True)\n",
   "id": "2ca8b3be466ac268",
   "outputs": [
    {
     "data": {
      "text/plain": [
       "['001']"
      ]
     },
     "execution_count": 64,
     "metadata": {},
     "output_type": "execute_result"
    }
   ],
   "execution_count": 64
  },
  {
   "metadata": {
    "ExecuteTime": {
     "end_time": "2025-05-07T13:17:39.545961Z",
     "start_time": "2025-05-07T13:17:39.538220Z"
    }
   },
   "cell_type": "code",
   "source": "seq001 = dataset['001']\n",
   "id": "d839df8c6f1c2a8e",
   "outputs": [],
   "execution_count": 65
  },
  {
   "metadata": {
    "ExecuteTime": {
     "end_time": "2025-05-07T13:17:57.222783Z",
     "start_time": "2025-05-07T13:17:51.421975Z"
    }
   },
   "cell_type": "code",
   "source": "seq001.load()",
   "id": "dc463adb07e2ead9",
   "outputs": [
    {
     "data": {
      "text/plain": [
       "<pandaset.sequence.Sequence at 0x15f7b46b0>"
      ]
     },
     "execution_count": 66,
     "metadata": {},
     "output_type": "execute_result"
    }
   ],
   "execution_count": 66
  },
  {
   "metadata": {
    "ExecuteTime": {
     "end_time": "2025-05-07T13:19:43.541912Z",
     "start_time": "2025-05-07T13:19:43.530650Z"
    }
   },
   "cell_type": "code",
   "source": "pc_all = seq001.lidar[:]\n",
   "id": "1d8a55b989fe20fb",
   "outputs": [],
   "execution_count": 73
  },
  {
   "metadata": {
    "ExecuteTime": {
     "end_time": "2025-05-07T13:20:23.912035Z",
     "start_time": "2025-05-07T13:20:13.976656Z"
    }
   },
   "cell_type": "code",
   "source": "seq001.load_camera()",
   "id": "b742daccb1f87c9f",
   "outputs": [
    {
     "data": {
      "text/plain": [
       "<pandaset.sequence.Sequence at 0x15f7b46b0>"
      ]
     },
     "execution_count": 75,
     "metadata": {},
     "output_type": "execute_result"
    }
   ],
   "execution_count": 75
  },
  {
   "metadata": {
    "ExecuteTime": {
     "end_time": "2025-05-07T13:20:57.961771Z",
     "start_time": "2025-05-07T13:20:32.396283Z"
    }
   },
   "cell_type": "code",
   "source": "cam = seq001.load_camera()",
   "id": "dee2451cc8798bd3",
   "outputs": [],
   "execution_count": 76
  },
  {
   "metadata": {
    "ExecuteTime": {
     "end_time": "2025-05-07T13:19:47.739487Z",
     "start_time": "2025-05-07T13:19:47.730938Z"
    }
   },
   "cell_type": "code",
   "source": "pc_all",
   "id": "af3a14c7e59c2c78",
   "outputs": [
    {
     "data": {
      "text/plain": [
       "[]"
      ]
     },
     "execution_count": 74,
     "metadata": {},
     "output_type": "execute_result"
    }
   ],
   "execution_count": 74
  },
  {
   "metadata": {
    "ExecuteTime": {
     "end_time": "2025-05-12T08:02:37.794992Z",
     "start_time": "2025-05-12T08:02:37.737213Z"
    }
   },
   "cell_type": "code",
   "source": [
    "import pickle\n",
    "\n",
    "# read python dict back from the file\n",
    "pkl_file = open('data/001/lidar/00.pkl', 'rb')\n",
    "mydict2 = pickle.load(pkl_file)\n",
    "pkl_file.close()\n",
    "\n",
    "print(mydict2.describe())"
   ],
   "id": "4c9d0203894bc4d2",
   "outputs": [
    {
     "name": "stdout",
     "output_type": "stream",
     "text": [
      "                   x              y              z              i  \\\n",
      "count  169171.000000  169171.000000  169171.000000  169171.000000   \n",
      "mean        7.772308       9.739121       1.272130      18.916227   \n",
      "std        22.358403      23.950192       2.022537      29.548805   \n",
      "min      -141.474045    -116.895454      -3.804854       0.000000   \n",
      "25%        -5.107608      -5.413681      -0.180473       5.000000   \n",
      "50%         8.216221       7.965151       0.564625      12.000000   \n",
      "75%        22.322344      18.132621       2.054175      27.000000   \n",
      "max       209.506256     238.555299      19.034229     255.000000   \n",
      "\n",
      "                  t              d  \n",
      "count  1.691710e+05  169171.000000  \n",
      "mean   1.557540e+09       0.368178  \n",
      "std    3.173380e-02       0.482311  \n",
      "min    1.557540e+09       0.000000  \n",
      "25%    1.557540e+09       0.000000  \n",
      "50%    1.557540e+09       0.000000  \n",
      "75%    1.557540e+09       1.000000  \n",
      "max    1.557540e+09       1.000000  \n"
     ]
    }
   ],
   "execution_count": 13
  },
  {
   "metadata": {
    "ExecuteTime": {
     "end_time": "2025-05-12T08:02:38.642712Z",
     "start_time": "2025-05-12T08:02:38.634915Z"
    }
   },
   "cell_type": "code",
   "source": "print(mydict2)\n",
   "id": "29876db60f8b3685",
   "outputs": [
    {
     "name": "stdout",
     "output_type": "stream",
     "text": [
      "                x          y         z     i             t  d\n",
      "index                                                        \n",
      "0      -58.457199 -61.269268  2.881014  39.0  1.557540e+09  0\n",
      "1      -71.572182 -74.840317  1.279183   9.0  1.557540e+09  0\n",
      "2      -42.442833 -44.357426  0.426503  56.0  1.557540e+09  0\n",
      "3      -31.749357 -33.156342 -0.025245   3.0  1.557540e+09  0\n",
      "4       -9.920758 -10.442794  1.010120   0.0  1.557540e+09  0\n",
      "...           ...        ...       ...   ...           ... ..\n",
      "169166  41.139096  11.530556  5.419758  17.0  1.557540e+09  1\n",
      "169167  34.511274  24.490057  5.673317  27.0  1.557540e+09  1\n",
      "169168  41.091265  11.598719  5.408523  20.0  1.557540e+09  1\n",
      "169169  34.505630  24.584497  5.678679   3.0  1.557540e+09  1\n",
      "169170  41.037545  11.669248  5.396468  20.0  1.557540e+09  1\n",
      "\n",
      "[169171 rows x 6 columns]\n"
     ]
    }
   ],
   "execution_count": 14
  },
  {
   "metadata": {
    "ExecuteTime": {
     "end_time": "2025-05-12T08:02:39.539485Z",
     "start_time": "2025-05-12T08:02:39.521911Z"
    }
   },
   "cell_type": "code",
   "source": "mydict2.head()",
   "id": "c41a1511cdacdbcd",
   "outputs": [
    {
     "data": {
      "text/plain": [
       "               x          y         z     i             t  d\n",
       "index                                                       \n",
       "0     -58.457199 -61.269268  2.881014  39.0  1.557540e+09  0\n",
       "1     -71.572182 -74.840317  1.279183   9.0  1.557540e+09  0\n",
       "2     -42.442833 -44.357426  0.426503  56.0  1.557540e+09  0\n",
       "3     -31.749357 -33.156342 -0.025245   3.0  1.557540e+09  0\n",
       "4      -9.920758 -10.442794  1.010120   0.0  1.557540e+09  0"
      ],
      "text/html": [
       "<div>\n",
       "<style scoped>\n",
       "    .dataframe tbody tr th:only-of-type {\n",
       "        vertical-align: middle;\n",
       "    }\n",
       "\n",
       "    .dataframe tbody tr th {\n",
       "        vertical-align: top;\n",
       "    }\n",
       "\n",
       "    .dataframe thead th {\n",
       "        text-align: right;\n",
       "    }\n",
       "</style>\n",
       "<table border=\"1\" class=\"dataframe\">\n",
       "  <thead>\n",
       "    <tr style=\"text-align: right;\">\n",
       "      <th></th>\n",
       "      <th>x</th>\n",
       "      <th>y</th>\n",
       "      <th>z</th>\n",
       "      <th>i</th>\n",
       "      <th>t</th>\n",
       "      <th>d</th>\n",
       "    </tr>\n",
       "    <tr>\n",
       "      <th>index</th>\n",
       "      <th></th>\n",
       "      <th></th>\n",
       "      <th></th>\n",
       "      <th></th>\n",
       "      <th></th>\n",
       "      <th></th>\n",
       "    </tr>\n",
       "  </thead>\n",
       "  <tbody>\n",
       "    <tr>\n",
       "      <th>0</th>\n",
       "      <td>-58.457199</td>\n",
       "      <td>-61.269268</td>\n",
       "      <td>2.881014</td>\n",
       "      <td>39.0</td>\n",
       "      <td>1.557540e+09</td>\n",
       "      <td>0</td>\n",
       "    </tr>\n",
       "    <tr>\n",
       "      <th>1</th>\n",
       "      <td>-71.572182</td>\n",
       "      <td>-74.840317</td>\n",
       "      <td>1.279183</td>\n",
       "      <td>9.0</td>\n",
       "      <td>1.557540e+09</td>\n",
       "      <td>0</td>\n",
       "    </tr>\n",
       "    <tr>\n",
       "      <th>2</th>\n",
       "      <td>-42.442833</td>\n",
       "      <td>-44.357426</td>\n",
       "      <td>0.426503</td>\n",
       "      <td>56.0</td>\n",
       "      <td>1.557540e+09</td>\n",
       "      <td>0</td>\n",
       "    </tr>\n",
       "    <tr>\n",
       "      <th>3</th>\n",
       "      <td>-31.749357</td>\n",
       "      <td>-33.156342</td>\n",
       "      <td>-0.025245</td>\n",
       "      <td>3.0</td>\n",
       "      <td>1.557540e+09</td>\n",
       "      <td>0</td>\n",
       "    </tr>\n",
       "    <tr>\n",
       "      <th>4</th>\n",
       "      <td>-9.920758</td>\n",
       "      <td>-10.442794</td>\n",
       "      <td>1.010120</td>\n",
       "      <td>0.0</td>\n",
       "      <td>1.557540e+09</td>\n",
       "      <td>0</td>\n",
       "    </tr>\n",
       "  </tbody>\n",
       "</table>\n",
       "</div>"
      ]
     },
     "execution_count": 15,
     "metadata": {},
     "output_type": "execute_result"
    }
   ],
   "execution_count": 15
  },
  {
   "metadata": {},
   "cell_type": "code",
   "outputs": [],
   "execution_count": null,
   "source": "",
   "id": "dbe9f8c8b66b185e"
  }
 ],
 "metadata": {
  "kernelspec": {
   "display_name": "Python 3",
   "language": "python",
   "name": "python3"
  },
  "language_info": {
   "codemirror_mode": {
    "name": "ipython",
    "version": 2
   },
   "file_extension": ".py",
   "mimetype": "text/x-python",
   "name": "python",
   "nbconvert_exporter": "python",
   "pygments_lexer": "ipython2",
   "version": "2.7.6"
  }
 },
 "nbformat": 4,
 "nbformat_minor": 5
}
