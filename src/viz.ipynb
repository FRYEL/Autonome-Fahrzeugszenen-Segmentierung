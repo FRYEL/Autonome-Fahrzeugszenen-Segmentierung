{
 "cells": [
  {
   "cell_type": "code",
   "id": "initial_id",
   "metadata": {
    "collapsed": true,
    "ExecuteTime": {
     "end_time": "2025-06-11T13:38:57.027704Z",
     "start_time": "2025-06-11T13:38:57.023270Z"
    }
   },
   "source": [
    "import os\n",
    "import pandas as pd\n",
    "import matplotlib.pyplot as plt\n",
    "import seaborn as sns\n",
    "from collections import defaultdict"
   ],
   "outputs": [],
   "execution_count": 1
  },
  {
   "metadata": {
    "ExecuteTime": {
     "end_time": "2025-06-11T13:39:24.486803Z",
     "start_time": "2025-06-11T13:39:24.482447Z"
    }
   },
   "cell_type": "code",
   "source": [
    "\n",
    "# === STEP 1: Update your label paths below ===\n",
    "train_label_dir = \"../traffic_data/train/labels\"  # e.g. ../traffic_data/train/labels\n",
    "val_label_dir = \"../traffic_data/valid/labels\"    # e.g. ../traffic_data/val/labels\n",
    "\n",
    "# Class list from the dataset (edit if your YAML uses different order)\n",
    "class_names = [\n",
    "'ambulance', 'army vehicle', 'auto rickshaw', 'bicycle', 'bus', 'car', 'garbagevan', 'human hauler', 'minibus', 'minivan', 'motorbike', 'pickup', 'policecar', 'rickshaw', 'scooter', 'suv', 'taxi', 'three wheelers -CNG-', 'truck', 'van', 'wheelbarrow'\n",
    "]\n"
   ],
   "id": "1ad3797801c73665",
   "outputs": [],
   "execution_count": 2
  },
  {
   "metadata": {
    "ExecuteTime": {
     "end_time": "2025-06-11T13:39:28.765244Z",
     "start_time": "2025-06-11T13:39:28.758253Z"
    }
   },
   "cell_type": "code",
   "source": [
    "\n",
    "# === STEP 2: Function to load label data ===\n",
    "def process_labels(label_dir):\n",
    "    class_counts = defaultdict(int)\n",
    "    objects_per_image = []\n",
    "\n",
    "    for file in os.listdir(label_dir):\n",
    "        if file.endswith(\".txt\"):\n",
    "            with open(os.path.join(label_dir, file), \"r\") as f:\n",
    "                lines = f.readlines()\n",
    "                objects_per_image.append(len(lines))\n",
    "                for line in lines:\n",
    "                    class_id = int(line.strip().split()[0])\n",
    "                    class_counts[class_names[class_id]] += 1\n",
    "    return class_counts, objects_per_image\n"
   ],
   "id": "baaec77462a1f908",
   "outputs": [],
   "execution_count": 3
  },
  {
   "metadata": {
    "ExecuteTime": {
     "end_time": "2025-06-11T13:39:32.017917Z",
     "start_time": "2025-06-11T13:39:31.232529Z"
    }
   },
   "cell_type": "code",
   "source": [
    "\n",
    "# === STEP 3: Process your labels ===\n",
    "train_counts, train_objs = process_labels(train_label_dir)\n",
    "val_counts, val_objs = process_labels(val_label_dir)\n",
    "\n",
    "total_counts = train_counts.copy()\n",
    "for k, v in val_counts.items():\n",
    "    total_counts[k] += v\n"
   ],
   "id": "ad9bd87d1d3aa2ff",
   "outputs": [],
   "execution_count": 4
  },
  {
   "metadata": {
    "ExecuteTime": {
     "end_time": "2025-06-11T13:39:35.888260Z",
     "start_time": "2025-06-11T13:39:34.888260Z"
    }
   },
   "cell_type": "code",
   "source": [
    "# === STEP 4: Create plots ===\n",
    "sns.set_theme(style=\"whitegrid\")\n",
    "\n",
    "# Bar Plot\n",
    "df_counts = pd.DataFrame(total_counts.items(), columns=[\"Class\", \"Count\"]).sort_values(\"Count\", ascending=False)\n",
    "plt.figure(figsize=(12, 6))\n",
    "sns.barplot(data=df_counts, x=\"Class\", y=\"Count\", palette=\"magma\")\n",
    "plt.xticks(rotation=45)\n",
    "plt.title(\"Class Distribution (Train + Val)\")\n",
    "plt.tight_layout()\n",
    "plt.savefig(\"class_distribution.png\")\n",
    "plt.close()\n",
    "\n",
    "# Pie Chart: Top 5\n",
    "top5 = df_counts.head(5)\n",
    "plt.figure(figsize=(6, 6))\n",
    "plt.pie(top5[\"Count\"], labels=top5[\"Class\"], autopct='%1.1f%%', startangle=140)\n",
    "plt.title(\"Top 5 Most Frequent Classes\")\n",
    "plt.tight_layout()\n",
    "plt.savefig(\"top5_class_pie.png\")\n",
    "plt.close()\n",
    "\n",
    "# Histogram: Objects per Image\n",
    "all_objs = train_objs + val_objs\n",
    "plt.figure(figsize=(8, 5))\n",
    "sns.histplot(all_objs, bins=15, kde=True, color=\"teal\")\n",
    "plt.title(\"Objects per Image\")\n",
    "plt.xlabel(\"Number of Objects\")\n",
    "plt.ylabel(\"Number of Images\")\n",
    "plt.tight_layout()\n",
    "plt.savefig(\"objects_per_image.png\")\n",
    "plt.close()\n"
   ],
   "id": "844302ae7ada624",
   "outputs": [
    {
     "name": "stderr",
     "output_type": "stream",
     "text": [
      "C:\\Users\\furka\\AppData\\Local\\Temp\\ipykernel_23628\\3334178964.py:7: FutureWarning: \n",
      "\n",
      "Passing `palette` without assigning `hue` is deprecated and will be removed in v0.14.0. Assign the `x` variable to `hue` and set `legend=False` for the same effect.\n",
      "\n",
      "  sns.barplot(data=df_counts, x=\"Class\", y=\"Count\", palette=\"magma\")\n"
     ]
    }
   ],
   "execution_count": 5
  },
  {
   "metadata": {},
   "cell_type": "code",
   "outputs": [],
   "execution_count": null,
   "source": "y",
   "id": "483c5a0f309fd2c6"
  }
 ],
 "metadata": {
  "kernelspec": {
   "display_name": "Python 3",
   "language": "python",
   "name": "python3"
  },
  "language_info": {
   "codemirror_mode": {
    "name": "ipython",
    "version": 2
   },
   "file_extension": ".py",
   "mimetype": "text/x-python",
   "name": "python",
   "nbconvert_exporter": "python",
   "pygments_lexer": "ipython2",
   "version": "2.7.6"
  }
 },
 "nbformat": 4,
 "nbformat_minor": 5
}
