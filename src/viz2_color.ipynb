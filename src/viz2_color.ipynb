{
 "cells": [
  {
   "cell_type": "code",
   "id": "initial_id",
   "metadata": {
    "collapsed": true,
    "ExecuteTime": {
     "end_time": "2025-06-11T14:16:08.745640Z",
     "start_time": "2025-06-11T14:16:08.739639Z"
    }
   },
   "source": [
    "import os\n",
    "import pandas as pd\n",
    "import matplotlib.pyplot as plt\n",
    "import seaborn as sns\n",
    "from collections import defaultdict\n",
    "import cv2\n",
    "import numpy as np\n",
    "import random\n"
   ],
   "outputs": [],
   "execution_count": 13
  },
  {
   "metadata": {
    "ExecuteTime": {
     "end_time": "2025-06-11T14:16:08.770070Z",
     "start_time": "2025-06-11T14:16:08.764161Z"
    }
   },
   "cell_type": "code",
   "source": [
    "\n",
    "# === PATHS TO SET ===\n",
    "train_label_dir = \"../traffic_data/train/labels\"\n",
    "val_label_dir = \"../traffic_data/valid/labels\"\n",
    "train_image_dir = \"../traffic_data/train/images\"\n",
    "output_dir = \"./output_plots\"  # Make sure this exists or create with os.makedirs\n",
    "\n",
    "# === COLOR PALETTE ===\n",
    "custom_palette = [\n",
    "    \"#032a4d\", \"#00457a\", \"#0458a5\", \"#0476df\", \"#50b1ff\", \"#88cbff\", \"#9e9e9e\"\n",
    "]\n",
    "\n",
    "# === CLASS NAMES ===\n",
    "class_names = [\n",
    "'ambulance', 'army vehicle', 'auto rickshaw', 'bicycle', 'bus', 'car', 'garbagevan', 'human hauler', 'minibus', 'minivan', 'motorbike', 'pickup', 'policecar', 'rickshaw', 'scooter', 'suv', 'taxi', 'three wheelers -CNG-', 'truck', 'van', 'wheelbarrow'\n",
    "]\n",
    "\n"
   ],
   "id": "ab9c526026392458",
   "outputs": [],
   "execution_count": 14
  },
  {
   "metadata": {
    "ExecuteTime": {
     "end_time": "2025-06-11T14:16:08.803923Z",
     "start_time": "2025-06-11T14:16:08.796917Z"
    }
   },
   "cell_type": "code",
   "source": [
    "\n",
    "# === FUNCTION TO PROCESS LABEL FILES ===\n",
    "def process_labels(label_dir):\n",
    "    class_counts = defaultdict(int)\n",
    "    objects_per_image = []\n",
    "    bbox_sizes = []\n",
    "\n",
    "    for file in os.listdir(label_dir):\n",
    "        if file.endswith(\".txt\"):\n",
    "            with open(os.path.join(label_dir, file), \"r\") as f:\n",
    "                lines = f.readlines()\n",
    "                objects_per_image.append(len(lines))\n",
    "                for line in lines:\n",
    "                    parts = line.strip().split()\n",
    "                    if len(parts) == 5:\n",
    "                        class_id = int(parts[0])\n",
    "                        width = float(parts[3])\n",
    "                        height = float(parts[4])\n",
    "                        class_counts[class_names[class_id]] += 1\n",
    "                        bbox_sizes.append(width * height)\n",
    "    return class_counts, objects_per_image, bbox_sizes\n",
    "\n",
    "# Draw Bounding Boxes on Sample Images\n",
    "def draw_bboxes(image_path, label_path, output_path):\n",
    "    image = cv2.imread(image_path)\n",
    "    h, w = image.shape[:2]\n",
    "    with open(label_path, \"r\") as f:\n",
    "        for line in f:\n",
    "            parts = line.strip().split()\n",
    "            class_id, xc, yc, bw, bh = map(float, parts)\n",
    "            xmin = int((xc - bw / 2) * w)\n",
    "            xmax = int((xc + bw / 2) * w)\n",
    "            ymin = int((yc - bh / 2) * h)\n",
    "            ymax = int((yc + bh / 2) * h)\n",
    "            color = tuple(int(custom_palette[int(class_id) % len(custom_palette)].lstrip('#')[i:i+2], 16) for i in (0, 2 ,4))\n",
    "            cv2.rectangle(image, (xmin, ymin), (xmax, ymax), color, 2)\n",
    "            cv2.putText(image, class_names[int(class_id)], (xmin, ymin - 5), cv2.FONT_HERSHEY_SIMPLEX, 0.5, color, 1)\n",
    "    cv2.imwrite(output_path, image)"
   ],
   "id": "c3484cb02d7a83b",
   "outputs": [],
   "execution_count": 15
  },
  {
   "metadata": {
    "ExecuteTime": {
     "end_time": "2025-06-11T14:16:10.716669Z",
     "start_time": "2025-06-11T14:16:08.836569Z"
    }
   },
   "cell_type": "code",
   "source": [
    "# === PROCESS TRAIN AND VAL LABELS ===\n",
    "train_counts, train_objs, train_bbox = process_labels(train_label_dir)\n",
    "val_counts, val_objs, val_bbox = process_labels(val_label_dir)\n",
    "\n",
    "# === COMBINE ===\n",
    "total_counts = train_counts.copy()\n",
    "for k, v in val_counts.items():\n",
    "    total_counts[k] += v\n",
    "all_objects = train_objs + val_objs\n",
    "all_bboxes = train_bbox + val_bbox"
   ],
   "id": "471b2f8ab7bf21ae",
   "outputs": [
    {
     "name": "stderr",
     "output_type": "stream",
     "text": [
      "C:\\Users\\furka\\AppData\\Local\\Temp\\ipykernel_3948\\583426721.py:19: FutureWarning: \n",
      "\n",
      "Passing `palette` without assigning `hue` is deprecated and will be removed in v0.14.0. Assign the `x` variable to `hue` and set `legend=False` for the same effect.\n",
      "\n",
      "  sns.barplot(data=df_counts, x=\"Class\", y=\"Count\", palette=custom_palette * (len(df_counts) // len(custom_palette) + 1))\n",
      "C:\\Users\\furka\\AppData\\Local\\Temp\\ipykernel_3948\\583426721.py:19: UserWarning: The palette list has more values (28) than needed (21), which may not be intended.\n",
      "  sns.barplot(data=df_counts, x=\"Class\", y=\"Count\", palette=custom_palette * (len(df_counts) // len(custom_palette) + 1))\n"
     ]
    }
   ],
   "execution_count": 16
  },
  {
   "metadata": {},
   "cell_type": "code",
   "outputs": [],
   "execution_count": null,
   "source": [
    "# === PLOTS ===\n",
    "sns.set_theme(style=\"whitegrid\")\n",
    "os.makedirs(output_dir, exist_ok=True)"
   ],
   "id": "673517c98c9a60e3"
  },
  {
   "metadata": {
    "ExecuteTime": {
     "end_time": "2025-06-11T16:10:37.015862Z",
     "start_time": "2025-06-11T16:10:36.692932Z"
    }
   },
   "cell_type": "code",
   "source": [
    "\n",
    "# Bar Plot: Class Frequency\n",
    "df_counts = pd.DataFrame(total_counts.items(), columns=[\"Class\", \"Count\"]).sort_values(\"Count\", ascending=False)\n",
    "plt.figure(figsize=(12, 6))\n",
    "sns.barplot(data=df_counts, x=\"Class\", y=\"Count\", palette=custom_palette * (len(df_counts) // len(custom_palette) + 1))\n",
    "plt.xticks(rotation=45)\n",
    "#plt.title(\"Class Distribution (Train + Val)\")\n",
    "plt.tight_layout()\n",
    "\n",
    "#plt.savefig(os.path.join(output_dir, \"SMALL_class_distribution.png\"))\n",
    "#plt.close()"
   ],
   "id": "276b76cb5f85558f",
   "outputs": [
    {
     "name": "stderr",
     "output_type": "stream",
     "text": [
      "C:\\Users\\furka\\AppData\\Local\\Temp\\ipykernel_3948\\3634019947.py:4: FutureWarning: \n",
      "\n",
      "Passing `palette` without assigning `hue` is deprecated and will be removed in v0.14.0. Assign the `x` variable to `hue` and set `legend=False` for the same effect.\n",
      "\n",
      "  sns.barplot(data=df_counts, x=\"Class\", y=\"Count\", palette=custom_palette * (len(df_counts) // len(custom_palette) + 1))\n",
      "C:\\Users\\furka\\AppData\\Local\\Temp\\ipykernel_3948\\3634019947.py:4: UserWarning: The palette list has more values (28) than needed (21), which may not be intended.\n",
      "  sns.barplot(data=df_counts, x=\"Class\", y=\"Count\", palette=custom_palette * (len(df_counts) // len(custom_palette) + 1))\n"
     ]
    }
   ],
   "execution_count": 22
  },
  {
   "metadata": {
    "ExecuteTime": {
     "end_time": "2025-06-11T16:11:21.637091Z",
     "start_time": "2025-06-11T16:11:20.734919Z"
    }
   },
   "cell_type": "code",
   "source": [
    "\n",
    "# Horizontal Bar Plot: Class Frequency\n",
    "plt.figure(figsize=(12, 6))\n",
    "sns.barplot(data=df_counts, y=\"Class\", x=\"Count\", palette=custom_palette * (len(df_counts) // len(custom_palette) + 1))\n",
    "plt.xticks(rotation=45)\n",
    "#plt.title(\"Class Distribution (Train + Val)\")\n",
    "plt.tight_layout()\n",
    "\n",
    "plt.savefig(os.path.join(output_dir, \"HOR_SMALL_class_distribution.png\"))\n",
    "#plt.close()"
   ],
   "id": "694fe16fce9cea81",
   "outputs": [
    {
     "name": "stderr",
     "output_type": "stream",
     "text": [
      "C:\\Users\\furka\\AppData\\Local\\Temp\\ipykernel_3948\\200785123.py:3: FutureWarning: \n",
      "\n",
      "Passing `palette` without assigning `hue` is deprecated and will be removed in v0.14.0. Assign the `y` variable to `hue` and set `legend=False` for the same effect.\n",
      "\n",
      "  sns.barplot(data=df_counts, y=\"Class\", x=\"Count\", palette=custom_palette * (len(df_counts) // len(custom_palette) + 1))\n",
      "C:\\Users\\furka\\AppData\\Local\\Temp\\ipykernel_3948\\200785123.py:3: UserWarning: The palette list has more values (28) than needed (21), which may not be intended.\n",
      "  sns.barplot(data=df_counts, y=\"Class\", x=\"Count\", palette=custom_palette * (len(df_counts) // len(custom_palette) + 1))\n"
     ]
    },
    {
     "data": {
      "text/plain": [
       "<Figure size 1200x600 with 1 Axes>"
      ],
      "image/png": "[encoded data removed]"
     },
     "metadata": {},
     "output_type": "display_data"
    }
   ],
   "execution_count": 24
  },
  {
   "metadata": {},
   "cell_type": "code",
   "outputs": [],
   "execution_count": null,
   "source": [
    "\n",
    "# Pie Chart: Top 5 Classes\n",
    "top5 = df_counts.head(5)\n",
    "plt.figure(figsize=(6, 6))\n",
    "plt.pie(top5[\"Count\"], labels=top5[\"Class\"], colors=custom_palette[:5], autopct='%1.1f%%', startangle=140)\n",
    "plt.title(\"Top 5 Most Frequent Classes\")\n",
    "plt.tight_layout()\n",
    "plt.savefig(os.path.join(output_dir, \"top5_class_pie.png\"))\n",
    "plt.close()\n"
   ],
   "id": "87dbd390b037fc60"
  },
  {
   "metadata": {},
   "cell_type": "code",
   "outputs": [],
   "execution_count": null,
   "source": [
    "\n",
    "# Histogram: Objects per Image\n",
    "plt.figure(figsize=(8, 5))\n",
    "sns.histplot(all_objects, bins=15, kde=True, color=custom_palette[3])\n",
    "plt.title(\"Objects per Image\")\n",
    "plt.xlabel(\"Number of Objects\")\n",
    "plt.ylabel(\"Number of Images\")\n",
    "plt.tight_layout()\n",
    "plt.savefig(os.path.join(output_dir, \"objects_per_image.png\"))\n",
    "plt.close()\n"
   ],
   "id": "b9519e68af8bf00e"
  },
  {
   "metadata": {},
   "cell_type": "code",
   "outputs": [],
   "execution_count": null,
   "source": [
    "\n",
    "# Histogram: Bounding Box Size\n",
    "plt.figure(figsize=(8, 5))\n",
    "sns.histplot(all_bboxes, bins=20, color=custom_palette[4], kde=True)\n",
    "plt.title(\"Bounding Box Size Distribution (Relative Area)\")\n",
    "plt.xlabel(\"Normalized Area (width × height)\")\n",
    "plt.ylabel(\"Frequency\")\n",
    "plt.tight_layout()\n",
    "plt.savefig(os.path.join(output_dir, \"bbox_size_distribution.png\"))\n",
    "plt.close()\n"
   ],
   "id": "c7180b3fd501ed26"
  },
  {
   "metadata": {},
   "cell_type": "code",
   "outputs": [],
   "execution_count": null,
   "source": [
    "# Pick and annotate 2 random training images\n",
    "label_files = [f for f in os.listdir(train_label_dir) if f.endswith(\".txt\")]\n",
    "sample_files = random.sample(label_files, 2)\n",
    "\n",
    "for i, fname in enumerate(sample_files):\n",
    "    label_path = os.path.join(train_label_dir, fname)\n",
    "    image_path = os.path.join(train_image_dir, fname.replace(\".txt\", \".jpg\"))\n",
    "    output_path = os.path.join(output_dir, f\"bbox_example_{i+1}.jpg\")\n",
    "    draw_bboxes(image_path, label_path, output_path)"
   ],
   "id": "9b9dfccafecbe405"
  }
 ],
 "metadata": {
  "kernelspec": {
   "display_name": "Python 3",
   "language": "python",
   "name": "python3"
  },
  "language_info": {
   "codemirror_mode": {
    "name": "ipython",
    "version": 2
   },
   "file_extension": ".py",
   "mimetype": "text/x-python",
   "name": "python",
   "nbconvert_exporter": "python",
   "pygments_lexer": "ipython2",
   "version": "2.7.6"
  }
 },
 "nbformat": 4,
 "nbformat_minor": 5
}
