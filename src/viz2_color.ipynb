{
 "cells": [
  {
   "cell_type": "code",
   "id": "initial_id",
   "metadata": {
    "collapsed": true,
    "ExecuteTime": {
     "end_time": "2025-06-11T17:03:47.954150Z",
     "start_time": "2025-06-11T17:03:47.941566Z"
    }
   },
   "source": [
    "import os\n",
    "import pandas as pd\n",
    "import matplotlib.pyplot as plt\n",
    "import seaborn as sns\n",
    "from collections import defaultdict\n",
    "import cv2\n",
    "import numpy as np\n",
    "import random\n"
   ],
   "outputs": [],
   "execution_count": 4
  },
  {
   "metadata": {
    "ExecuteTime": {
     "end_time": "2025-06-11T17:03:49.222661Z",
     "start_time": "2025-06-11T17:03:49.219244Z"
    }
   },
   "cell_type": "code",
   "source": [
    "\n",
    "# === PATHS TO SET ===\n",
    "train_label_dir = \"../traffic_data/train/labels\"\n",
    "val_label_dir = \"../traffic_data/valid/labels\"\n",
    "train_image_dir = \"../traffic_data/train/images\"\n",
    "output_dir = \"./output_plots\"  # Make sure this exists or create with os.makedirs\n",
    "\n",
    "# === COLOR PALETTE ===\n",
    "custom_palette = [\n",
    "    \"#032a4d\", \"#00457a\", \"#0458a5\", \"#0476df\", \"#50b1ff\", \"#88cbff\", \"#9e9e9e\"\n",
    "]\n",
    "\n",
    "# === CLASS NAMES ===\n",
    "class_names = [\n",
    "'ambulance', 'army vehicle', 'auto rickshaw', 'bicycle', 'bus', 'car', 'garbagevan', 'human hauler', 'minibus', 'minivan', 'motorbike', 'pickup', 'policecar', 'rickshaw', 'scooter', 'suv', 'taxi', 'three wheelers -CNG-', 'truck', 'van', 'wheelbarrow'\n",
    "]\n",
    "\n"
   ],
   "id": "ab9c526026392458",
   "outputs": [],
   "execution_count": 5
  },
  {
   "metadata": {
    "ExecuteTime": {
     "end_time": "2025-06-11T17:03:51.254398Z",
     "start_time": "2025-06-11T17:03:51.246576Z"
    }
   },
   "cell_type": "code",
   "source": [
    "\n",
    "# === FUNCTION TO PROCESS LABEL FILES ===\n",
    "def process_labels(label_dir):\n",
    "    class_counts = defaultdict(int)\n",
    "    objects_per_image = []\n",
    "    bbox_sizes = []\n",
    "\n",
    "    for file in os.listdir(label_dir):\n",
    "        if file.endswith(\".txt\"):\n",
    "            with open(os.path.join(label_dir, file), \"r\") as f:\n",
    "                lines = f.readlines()\n",
    "                objects_per_image.append(len(lines))\n",
    "                for line in lines:\n",
    "                    parts = line.strip().split()\n",
    "                    if len(parts) == 5:\n",
    "                        class_id = int(parts[0])\n",
    "                        width = float(parts[3])\n",
    "                        height = float(parts[4])\n",
    "                        class_counts[class_names[class_id]] += 1\n",
    "                        bbox_sizes.append(width * height)\n",
    "    return class_counts, objects_per_image, bbox_sizes\n",
    "\n",
    "# Draw Bounding Boxes on Sample Images\n",
    "def draw_bboxes(image_path, label_path, output_path):\n",
    "    image = cv2.imread(image_path)\n",
    "    h, w = image.shape[:2]\n",
    "    with open(label_path, \"r\") as f:\n",
    "        for line in f:\n",
    "            parts = line.strip().split()\n",
    "            class_id, xc, yc, bw, bh = map(float, parts)\n",
    "            xmin = int((xc - bw / 2) * w)\n",
    "            xmax = int((xc + bw / 2) * w)\n",
    "            ymin = int((yc - bh / 2) * h)\n",
    "            ymax = int((yc + bh / 2) * h)\n",
    "            color = tuple(int(custom_palette[int(class_id) % len(custom_palette)].lstrip('#')[i:i+2], 16) for i in (0, 2 ,4))\n",
    "            cv2.rectangle(image, (xmin, ymin), (xmax, ymax), color, 2)\n",
    "            cv2.putText(image, class_names[int(class_id)], (xmin, ymin - 5), cv2.FONT_HERSHEY_SIMPLEX, 0.5, color, 1)\n",
    "    cv2.imwrite(output_path, image)"
   ],
   "id": "c3484cb02d7a83b",
   "outputs": [],
   "execution_count": 6
  },
  {
   "metadata": {
    "ExecuteTime": {
     "end_time": "2025-06-11T17:03:55.312277Z",
     "start_time": "2025-06-11T17:03:53.790249Z"
    }
   },
   "cell_type": "code",
   "source": [
    "# === PROCESS TRAIN AND VAL LABELS ===\n",
    "train_counts, train_objs, train_bbox = process_labels(train_label_dir)\n",
    "val_counts, val_objs, val_bbox = process_labels(val_label_dir)\n",
    "\n",
    "# === COMBINE ===\n",
    "total_counts = train_counts.copy()\n",
    "for k, v in val_counts.items():\n",
    "    total_counts[k] += v\n",
    "all_objects = train_objs + val_objs\n",
    "all_bboxes = train_bbox + val_bbox"
   ],
   "id": "471b2f8ab7bf21ae",
   "outputs": [],
   "execution_count": 7
  },
  {
   "metadata": {
    "ExecuteTime": {
     "end_time": "2025-06-11T17:03:55.957698Z",
     "start_time": "2025-06-11T17:03:55.951129Z"
    }
   },
   "cell_type": "code",
   "source": [
    "# === PLOTS ===\n",
    "sns.set_theme(style=\"whitegrid\")\n",
    "os.makedirs(output_dir, exist_ok=True)"
   ],
   "id": "673517c98c9a60e3",
   "outputs": [],
   "execution_count": 8
  },
  {
   "metadata": {
    "ExecuteTime": {
     "end_time": "2025-06-11T17:04:11.641477Z",
     "start_time": "2025-06-11T17:04:11.573874Z"
    }
   },
   "cell_type": "code",
   "source": "df_counts = pd.DataFrame(total_counts.items(), columns=[\"Class\", \"Count\"]).sort_values(\"Count\", ascending=False)",
   "id": "452a9070aaa77e09",
   "outputs": [],
   "execution_count": 10
  },
  {
   "metadata": {
    "ExecuteTime": {
     "end_time": "2025-06-11T17:07:30.120103Z",
     "start_time": "2025-06-11T17:07:29.904035Z"
    }
   },
   "cell_type": "code",
   "source": [
    "\n",
    "# Bar Plot: Class Frequency\n",
    "plt.figure(figsize=(12, 6))\n",
    "sns.barplot(data=df_counts, x=\"Class\", y=\"Count\", palette=custom_palette * (len(df_counts) // len(custom_palette) + 1))\n",
    "plt.xticks(rotation=45)\n",
    "#plt.title(\"Class Distribution (Train + Val)\")\n",
    "plt.tight_layout()\n",
    "\n",
    "plt.savefig(os.path.join(output_dir, \"SMALL_class_distribution.png\"))\n",
    "plt.close()"
   ],
   "id": "276b76cb5f85558f",
   "outputs": [
    {
     "name": "stderr",
     "output_type": "stream",
     "text": [
      "/var/folders/97/w7m6hrnj5lldx6gxjw172mnm0000gn/T/ipykernel_11060/2522144518.py:3: FutureWarning: \n",
      "\n",
      "Passing `palette` without assigning `hue` is deprecated and will be removed in v0.14.0. Assign the `x` variable to `hue` and set `legend=False` for the same effect.\n",
      "\n",
      "  sns.barplot(data=df_counts, x=\"Class\", y=\"Count\", palette=custom_palette * (len(df_counts) // len(custom_palette) + 1))\n",
      "/var/folders/97/w7m6hrnj5lldx6gxjw172mnm0000gn/T/ipykernel_11060/2522144518.py:3: UserWarning: The palette list has more values (28) than needed (21), which may not be intended.\n",
      "  sns.barplot(data=df_counts, x=\"Class\", y=\"Count\", palette=custom_palette * (len(df_counts) // len(custom_palette) + 1))\n"
     ]
    },
    {
     "data": {
      "text/plain": [
       "<Figure size 1200x600 with 1 Axes>"
      ],
      "image/png": "[encoded data removed]"
     },
     "metadata": {},
     "output_type": "display_data"
    }
   ],
   "execution_count": 17
  },
  {
   "metadata": {
    "ExecuteTime": {
     "end_time": "2025-06-11T17:09:33.526134Z",
     "start_time": "2025-06-11T17:09:33.228637Z"
    }
   },
   "cell_type": "code",
   "source": [
    "plt.figure(figsize=(12, 6))\n",
    "\n",
    "sns.barplot(\n",
    "    data=df_counts,\n",
    "    x=\"Class\",\n",
    "    y=\"Count\",\n",
    "    palette=custom_palette * (len(df_counts) // len(custom_palette) + 1)\n",
    ")\n",
    "\n",
    "plt.xticks(rotation=45, ha=\"right\", fontsize=14)\n",
    "plt.yticks(fontsize=14)\n",
    "plt.xlabel(\"Class\", fontsize=14)\n",
    "plt.ylabel(\"Count\", fontsize=14)\n",
    "# plt.title(\"Class Distribution (Train + Val)\", fontsize=16)\n",
    "\n",
    "plt.tight_layout()\n",
    "plt.savefig(os.path.join(output_dir, \"2_class_distribution.png\"), dpi=300)\n",
    "plt.close()\n"
   ],
   "id": "feea7713d24b6feb",
   "outputs": [
    {
     "name": "stderr",
     "output_type": "stream",
     "text": [
      "/var/folders/97/w7m6hrnj5lldx6gxjw172mnm0000gn/T/ipykernel_11060/3189396095.py:3: FutureWarning: \n",
      "\n",
      "Passing `palette` without assigning `hue` is deprecated and will be removed in v0.14.0. Assign the `x` variable to `hue` and set `legend=False` for the same effect.\n",
      "\n",
      "  sns.barplot(\n",
      "/var/folders/97/w7m6hrnj5lldx6gxjw172mnm0000gn/T/ipykernel_11060/3189396095.py:3: UserWarning: The palette list has more values (28) than needed (21), which may not be intended.\n",
      "  sns.barplot(\n"
     ]
    }
   ],
   "execution_count": 20
  },
  {
   "metadata": {
    "ExecuteTime": {
     "end_time": "2025-06-11T16:11:21.637091Z",
     "start_time": "2025-06-11T16:11:20.734919Z"
    }
   },
   "cell_type": "code",
   "source": [
    "\n",
    "# Horizontal Bar Plot: Class Frequency\n",
    "plt.figure(figsize=(12, 6))\n",
    "sns.barplot(data=df_counts, y=\"Class\", x=\"Count\", palette=custom_palette * (len(df_counts) // len(custom_palette) + 1))\n",
    "plt.xticks(rotation=45)\n",
    "#plt.title(\"Class Distribution (Train + Val)\")\n",
    "plt.tight_layout()\n",
    "\n",
    "plt.savefig(os.path.join(output_dir, \"HOR_SMALL_class_distribution.png\"))\n",
    "#plt.close()"
   ],
   "id": "694fe16fce9cea81",
   "outputs": [
    {
     "name": "stderr",
     "output_type": "stream",
     "text": [
      "C:\\Users\\furka\\AppData\\Local\\Temp\\ipykernel_3948\\200785123.py:3: FutureWarning: \n",
      "\n",
      "Passing `palette` without assigning `hue` is deprecated and will be removed in v0.14.0. Assign the `y` variable to `hue` and set `legend=False` for the same effect.\n",
      "\n",
      "  sns.barplot(data=df_counts, y=\"Class\", x=\"Count\", palette=custom_palette * (len(df_counts) // len(custom_palette) + 1))\n",
      "C:\\Users\\furka\\AppData\\Local\\Temp\\ipykernel_3948\\200785123.py:3: UserWarning: The palette list has more values (28) than needed (21), which may not be intended.\n",
      "  sns.barplot(data=df_counts, y=\"Class\", x=\"Count\", palette=custom_palette * (len(df_counts) // len(custom_palette) + 1))\n"
     ]
    },
    {
     "data": {
      "text/plain": [
       "<Figure size 1200x600 with 1 Axes>"
      ],
      "image/png": "[encoded data removed]"
     },
     "metadata": {},
     "output_type": "display_data"
    }
   ],
   "execution_count": 24
  },
  {
   "metadata": {
    "ExecuteTime": {
     "end_time": "2025-06-11T17:04:15.326916Z",
     "start_time": "2025-06-11T17:04:15.068963Z"
    }
   },
   "cell_type": "code",
   "source": [
    "\n",
    "# Pie Chart: Top 5 Classes\n",
    "top5 = df_counts.head(5)\n",
    "plt.figure(figsize=(6, 6))\n",
    "plt.pie(top5[\"Count\"], labels=top5[\"Class\"], colors=custom_palette[:5], autopct='%1.1f%%', startangle=140)\n",
    "plt.tight_layout()\n",
    "#plt.savefig(os.path.join(output_dir, \"top5_class_pie.png\"))\n",
    "plt.close()\n"
   ],
   "id": "87dbd390b037fc60",
   "outputs": [],
   "execution_count": 11
  },
  {
   "metadata": {
    "ExecuteTime": {
     "end_time": "2025-06-11T17:12:33.396010Z",
     "start_time": "2025-06-11T17:12:33.245468Z"
    }
   },
   "cell_type": "code",
   "source": [
    "import matplotlib.pyplot as plt\n",
    "import matplotlib.patheffects as path_effects\n",
    "\n",
    "# Custom function for white bold text\n",
    "def make_autopct(values):\n",
    "    def my_autopct(pct):\n",
    "        return '{:.1f}%'.format(pct)\n",
    "    return my_autopct\n",
    "\n",
    "top5 = df_counts.head(5)\n",
    "plt.figure(figsize=(6, 6))\n",
    "\n",
    "patches, texts, autotexts = plt.pie(\n",
    "    top5[\"Count\"],\n",
    "    labels=top5[\"Class\"],\n",
    "    colors=custom_palette[:5],\n",
    "    autopct=make_autopct(top5[\"Count\"]),\n",
    "    startangle=140\n",
    ")\n",
    "\n",
    "# Set font properties for labels (classes)\n",
    "for text in texts:\n",
    "    text.set_fontsize(16)        # Increase label font size\n",
    "    #text.set_fontweight('bold')  # Optional: make labels bold\n",
    "\n",
    "# Set font properties for percentage texts\n",
    "for autotext in autotexts:\n",
    "    autotext.set_color('white')\n",
    "    autotext.set_fontsize(21)       # Increase percentage font size\n",
    "    autotext.set_fontweight('bold')\n",
    "    autotext.set_path_effects([\n",
    "        path_effects.Stroke(linewidth=1, foreground='black'),\n",
    "        path_effects.Normal()\n",
    "    ])\n",
    "\n",
    "plt.tight_layout()\n",
    "plt.savefig(os.path.join(output_dir, \"3_top5_class_pie.png\"))\n",
    "plt.close()\n"
   ],
   "id": "34e9bb883b1f0613",
   "outputs": [],
   "execution_count": 21
  },
  {
   "metadata": {},
   "cell_type": "code",
   "outputs": [],
   "execution_count": null,
   "source": [
    "\n",
    "# Histogram: Objects per Image\n",
    "plt.figure(figsize=(8, 5))\n",
    "sns.histplot(all_objects, bins=15, kde=True, color=custom_palette[3])\n",
    "plt.title(\"Objects per Image\")\n",
    "plt.xlabel(\"Number of Objects\")\n",
    "plt.ylabel(\"Number of Images\")\n",
    "plt.tight_layout()\n",
    "plt.savefig(os.path.join(output_dir, \"objects_per_image.png\"))\n",
    "plt.close()\n"
   ],
   "id": "b9519e68af8bf00e"
  },
  {
   "metadata": {},
   "cell_type": "code",
   "outputs": [],
   "execution_count": null,
   "source": [
    "\n",
    "# Histogram: Bounding Box Size\n",
    "plt.figure(figsize=(8, 5))\n",
    "sns.histplot(all_bboxes, bins=20, color=custom_palette[4], kde=True)\n",
    "plt.title(\"Bounding Box Size Distribution (Relative Area)\")\n",
    "plt.xlabel(\"Normalized Area (width × height)\")\n",
    "plt.ylabel(\"Frequency\")\n",
    "plt.tight_layout()\n",
    "plt.savefig(os.path.join(output_dir, \"bbox_size_distribution.png\"))\n",
    "plt.close()\n"
   ],
   "id": "c7180b3fd501ed26"
  },
  {
   "metadata": {},
   "cell_type": "code",
   "outputs": [],
   "execution_count": null,
   "source": [
    "# Pick and annotate 2 random training images\n",
    "label_files = [f for f in os.listdir(train_label_dir) if f.endswith(\".txt\")]\n",
    "sample_files = random.sample(label_files, 2)\n",
    "\n",
    "for i, fname in enumerate(sample_files):\n",
    "    label_path = os.path.join(train_label_dir, fname)\n",
    "    image_path = os.path.join(train_image_dir, fname.replace(\".txt\", \".jpg\"))\n",
    "    output_path = os.path.join(output_dir, f\"bbox_example_{i+1}.jpg\")\n",
    "    draw_bboxes(image_path, label_path, output_path)"
   ],
   "id": "9b9dfccafecbe405"
  },
  {
   "metadata": {},
   "cell_type": "code",
   "outputs": [],
   "execution_count": null,
   "source": "",
   "id": "ebcead2c05748bc1"
  },
  {
   "metadata": {
    "ExecuteTime": {
     "end_time": "2025-06-11T16:20:24.933668Z",
     "start_time": "2025-06-11T16:20:24.611342Z"
    }
   },
   "cell_type": "code",
   "source": [
    "# Bar Plot\n",
    "df_counts = pd.DataFrame(total_counts.items(), columns=[\"Class\", \"Count\"]).sort_values(\"Count\", ascending=False)\n",
    "plt.figure(figsize=(12, 6))\n",
    "sns.barplot(data=df_counts, x=\"Class\", y=\"Count\", palette=\"magma\")\n",
    "plt.xticks(rotation=45)\n",
    "plt.tight_layout()\n",
    "plt.savefig(\"class_distribution.png\")\n",
    "plt.close()"
   ],
   "id": "6e8ce394393d4d3f",
   "outputs": [
    {
     "name": "stderr",
     "output_type": "stream",
     "text": [
      "C:\\Users\\furka\\AppData\\Local\\Temp\\ipykernel_3948\\2079413006.py:4: FutureWarning: \n",
      "\n",
      "Passing `palette` without assigning `hue` is deprecated and will be removed in v0.14.0. Assign the `x` variable to `hue` and set `legend=False` for the same effect.\n",
      "\n",
      "  sns.barplot(data=df_counts, x=\"Class\", y=\"Count\", palette=\"magma\")\n"
     ]
    }
   ],
   "execution_count": 26
  },
  {
   "metadata": {
    "ExecuteTime": {
     "end_time": "2025-06-11T17:38:15.658944Z",
     "start_time": "2025-06-11T17:38:14.993447Z"
    }
   },
   "cell_type": "code",
   "source": [
    "import os\n",
    "import numpy as np\n",
    "import matplotlib.pyplot as plt\n",
    "import seaborn as sns\n",
    "from matplotlib.colors import LinearSegmentedColormap\n",
    "\n",
    "# === CONFIG ===\n",
    "label_dir = \"../traffic_data/train/labels\"  # Update with your path\n",
    "image_width = 640\n",
    "image_height = 360\n",
    "output_path = \"./bbox_heatmap.png\"\n",
    "\n",
    "# === COLOR PALETTE ===\n",
    "custom_palette = [\n",
    "      \"#ffffff\", \"#88cbff\", \"#50b1ff\", \"#0476df\", \"#0458a5\", \"#00457a\", \"#032a4d\"\n",
    "]\n",
    "#fcfcfd\n",
    "#9e9e9e\n",
    "custom_cmap = LinearSegmentedColormap.from_list(\"custom_blues\", custom_palette)\n",
    "\n",
    "# === Accumulate bbox centers ===\n",
    "x_centers = []\n",
    "y_centers = []\n",
    "\n",
    "for fname in os.listdir(label_dir):\n",
    "    if not fname.endswith(\".txt\"):\n",
    "        continue\n",
    "    with open(os.path.join(label_dir, fname), \"r\") as f:\n",
    "        for line in f:\n",
    "            parts = line.strip().split()\n",
    "            if len(parts) != 5:\n",
    "                continue\n",
    "            _, x, y, _, _ = map(float, parts)\n",
    "            x_centers.append(int(x * image_width))\n",
    "            y_centers.append(int(y * image_height))\n",
    "\n",
    "# === Create heatmap ===\n",
    "heatmap, xedges, yedges = np.histogram2d(\n",
    "    x_centers, y_centers,\n",
    "    bins=(64, 36),\n",
    "    range=[[0, image_width], [0, image_height]]\n",
    ")\n",
    "\n",
    "# === Plotting ===\n",
    "plt.figure(figsize=(3.4, 2.5))  # Single-column LaTeX size\n",
    "sns.set_style(\"white\")\n",
    "sns.heatmap(\n",
    "    heatmap.T,\n",
    "    cmap=custom_cmap,\n",
    "    cbar=True,\n",
    "    xticklabels=False,\n",
    "    yticklabels=False\n",
    ")\n",
    "\n",
    "plt.xlabel(\"Image Width (px)\", fontsize=12)\n",
    "plt.ylabel(\"Image Height (px)\", fontsize=12)\n",
    "plt.tight_layout()\n",
    "plt.savefig(output_path, dpi=300, bbox_inches=\"tight\")\n",
    "plt.close()\n"
   ],
   "id": "b7a992aea579201",
   "outputs": [],
   "execution_count": 33
  },
  {
   "metadata": {
    "ExecuteTime": {
     "end_time": "2025-06-11T17:24:49.249487Z",
     "start_time": "2025-06-11T17:24:49.167966Z"
    }
   },
   "cell_type": "code",
   "source": [
    "import os\n",
    "\n",
    "# === Paths ===\n",
    "label_dir = \"../traffic_data/train/labels\"  # update as needed\n",
    "image_dir = \"../traffic_data/train/images\"\n",
    "\n",
    "# === Collect image and label base names (without extensions)\n",
    "image_files = [f for f in os.listdir(image_dir) if f.endswith((\".jpg\", \".png\"))]\n",
    "image_basenames = set(os.path.splitext(f)[0] for f in image_files)\n",
    "\n",
    "# === Track images with missing or empty label files\n",
    "images_no_labels = []\n",
    "images_empty_labels = []\n",
    "\n",
    "for name in image_basenames:\n",
    "    label_path = os.path.join(label_dir, name + \".txt\")\n",
    "    if not os.path.exists(label_path):\n",
    "        images_no_labels.append(name)\n",
    "    else:\n",
    "        if os.path.getsize(label_path) == 0:\n",
    "            images_empty_labels.append(name)\n",
    "\n",
    "# === Results\n",
    "total_images = len(image_basenames)\n",
    "no_label_count = len(images_no_labels)\n",
    "empty_label_count = len(images_empty_labels)\n",
    "total_unlabeled = no_label_count + empty_label_count\n",
    "\n",
    "print(f\"Total images: {total_images}\")\n",
    "print(f\"Images with NO label file: {no_label_count}\")\n",
    "print(f\"Images with EMPTY label file: {empty_label_count}\")\n",
    "print(f\"Total unlabeled images: {total_unlabeled}\")\n",
    "\n",
    "# Optional: list them\n",
    "# for name in images_no_labels + images_empty_labels:\n",
    "#     print(name)\n"
   ],
   "id": "6207649fb0dc4dfb",
   "outputs": [
    {
     "name": "stdout",
     "output_type": "stream",
     "text": [
      "Total images: 2704\n",
      "Images with NO label file: 0\n",
      "Images with EMPTY label file: 2\n",
      "Total unlabeled images: 2\n"
     ]
    }
   ],
   "execution_count": 26
  }
 ],
 "metadata": {
  "kernelspec": {
   "display_name": "Python 3",
   "language": "python",
   "name": "python3"
  },
  "language_info": {
   "codemirror_mode": {
    "name": "ipython",
    "version": 2
   },
   "file_extension": ".py",
   "mimetype": "text/x-python",
   "name": "python",
   "nbconvert_exporter": "python",
   "pygments_lexer": "ipython2",
   "version": "2.7.6"
  }
 },
 "nbformat": 4,
 "nbformat_minor": 5
}
