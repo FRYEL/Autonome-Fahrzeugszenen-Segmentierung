{
 "cells": [
  {
   "metadata": {},
   "cell_type": "markdown",
   "source": "# Import Libraries",
   "id": "28b00401aba20a1"
  },
  {
   "cell_type": "code",
   "execution_count": null,
   "id": "initial_id",
   "metadata": {
    "collapsed": true
   },
   "outputs": [],
   "source": [
    "from ultralytics import YOLO\n",
    "import torch"
   ]
  },
  {
   "metadata": {},
   "cell_type": "markdown",
   "source": "# Training of initial YOLO11n Baseline Model",
   "id": "765cddd17c8e98ce"
  },
  {
   "metadata": {},
   "cell_type": "code",
   "outputs": [],
   "execution_count": null,
   "source": [
    "model = YOLO(\"../yolo11n.pt\")\n",
    "\n",
    "# Training with default settings as a fair baseline\n",
    "model.train(\n",
    "    data=\"../traffic_data/data_1.yaml\",\n",
    "    epochs=40,\n",
    "    imgsz=640,\n",
    "    batch=16,\n",
    "    device=0,\n",
    "    project=\"traffic_training\",\n",
    "    name=\"yolo11n_baseline\",\n",
    "    save=True,\n",
    "    plots=True\n",
    ")"
   ],
   "id": "969fa6c65f77830b"
  },
  {
   "metadata": {},
   "cell_type": "markdown",
   "source": "# Preprocessing the Dataset",
   "id": "198e912848c71ac4"
  },
  {
   "metadata": {},
   "cell_type": "markdown",
   "source": "## Remapping Classes",
   "id": "21d5d215fa4d0082"
  },
  {
   "metadata": {},
   "cell_type": "markdown",
   "source": "Classes that occur very rarely but are similar to the car class, like taxi, suv and polic car are mapped to the car class.",
   "id": "f4517756a72d5870"
  },
  {
   "metadata": {},
   "cell_type": "code",
   "outputs": [],
   "execution_count": null,
   "source": [
    "import os\n",
    "\n",
    "label_dirs = [\"../traffic_data/train/labels\", \"../traffic_data/valid/labels\"]\n",
    "remap = {12: 5, 15: 5, 16: 5}  # old → new class indices\n",
    "\n",
    "for label_dir in label_dirs:\n",
    "    for file in os.listdir(label_dir):\n",
    "        if not file.endswith(\".txt\"):\n",
    "            continue\n",
    "\n",
    "        path = os.path.join(label_dir, file)\n",
    "        new_lines = []\n",
    "\n",
    "        with open(path, \"r\") as f:\n",
    "            for line in f:\n",
    "                parts = line.strip().split()\n",
    "                if not parts:\n",
    "                    continue\n",
    "                cls = int(parts[0])\n",
    "                if cls in remap:\n",
    "                    cls = remap[cls]\n",
    "                new_line = \" \".join([str(cls)] + parts[1:])\n",
    "                new_lines.append(new_line)\n",
    "\n",
    "\n",
    "        with open(path, \"w\") as f:\n",
    "            f.write(\"\\n\".join(new_lines))\n"
   ],
   "id": "43f426e55996f5a2"
  },
  {
   "metadata": {},
   "cell_type": "markdown",
   "source": "## Shifting Classes > 12 due to removed classes",
   "id": "a5aa630efe0a49e4"
  },
  {
   "metadata": {},
   "cell_type": "code",
   "outputs": [],
   "execution_count": null,
   "source": [
    "# Classes that were removed (already mapped to class 5)\n",
    "removed_classes = [12, 15, 16]\n",
    "\n",
    "def final_shift(cls):\n",
    "    # Skip if already merged to 5\n",
    "    if cls == 5:\n",
    "        return 5\n",
    "    # Shift down if above removed ones\n",
    "    shift = sum(1 for r in removed_classes if cls > r)\n",
    "    return cls - shift\n",
    "\n",
    "for label_dir in label_dirs:\n",
    "    for file in os.listdir(label_dir):\n",
    "        if not file.endswith(\".txt\"):\n",
    "            continue\n",
    "        path = os.path.join(label_dir, file)\n",
    "        new_lines = []\n",
    "        with open(path, \"r\") as f:\n",
    "            for line in f:\n",
    "                parts = line.strip().split()\n",
    "                if not parts:\n",
    "                    continue\n",
    "                cls = int(parts[0])\n",
    "                new_cls = final_shift(cls)\n",
    "                new_line = \" \".join([str(new_cls)] + parts[1:])\n",
    "                new_lines.append(new_line)\n",
    "        with open(path, \"w\") as f:\n",
    "            f.write(\"\\n\".join(new_lines))\n"
   ],
   "id": "9d292c0ca02d69ce"
  },
  {
   "metadata": {},
   "cell_type": "markdown",
   "source": "## Data Augmentation",
   "id": "5de4f8d0b7af7713"
  },
  {
   "metadata": {},
   "cell_type": "markdown",
   "source": "All images containing classes 0, 1, 6, 7,8, 13 and 17 will be oversampled by copying them to a new directory. This is done to balance the dataset and improve model performance on these classes. The copied images will have the suffix \"_copy\" added to their filenames, and the corresponding label files will also be copied with the same suffix. Then the copied images and labels will be added to the training data.",
   "id": "5987b6456cf5fc71"
  },
  {
   "metadata": {},
   "cell_type": "markdown",
   "source": [
    "```bash\n",
    "for label in labels/*.txt; do\n",
    "    if grep -E '^(0|1|6|7|8|13|17)[[:space:]]' \"$label\"; then\n",
    "        base=$(basename \"$label\" .txt)\n",
    "        cp \"images/$base.jpg\" oversampled/images/\"$base\"_copy.jpg\n",
    "        cp \"$label\" oversampled/labels/\"$base\"_copy.txt\n",
    "    fi\n",
    "done\n",
    "```"
   ],
   "id": "695968fe7f82ff59"
  },
  {
   "metadata": {},
   "cell_type": "markdown",
   "source": "# Hyperparameter Tuning and Evolution Selection with YOLO11n tune() function",
   "id": "a9e7492a2e45f646"
  },
  {
   "metadata": {},
   "cell_type": "markdown",
   "source": "Further training after using the .tune() function in Ultralytics YOLO is not needed because each tuning iteration already performs a full training run using a distinct set of hyperparameters. The best model is selected based on its validation performance (e.g., mAP@50) across all iterations. This model, saved as best.pt,has already undergone full optimization and training under the best-found configuration. Re-training it would not improve performance unless new data, loss functions, or architectures are introduced. Therefore, the best.pt file from .tune() is directly usable for inference or evaluation without additional training.",
   "id": "35df695f498ce587"
  },
  {
   "metadata": {},
   "cell_type": "code",
   "outputs": [],
   "execution_count": null,
   "source": [
    "model = YOLO(\"../yolo11n.pt\")\n",
    "\n",
    "# hyperparameter evolution\n",
    "model.tune(\n",
    "    data=\"../traffic_data/data_1.yaml\",\n",
    "    epochs=40,\n",
    "    iterations=10,\n",
    "    device=0,\n",
    "    imgsz=640,\n",
    "    batch=16,\n",
    "    optimizer=\"auto\",\n",
    "    project=\"traffic_training\",\n",
    "    name=\"yolo11n_MAX\",\n",
    "    cache=True\n",
    ")"
   ],
   "id": "88e98f0fdd48b236"
  },
  {
   "metadata": {},
   "cell_type": "markdown",
   "source": [
    "## 🔧 Hyperparameter Tuning Results\n",
    "\n",
    "✅ **10/10 iterations complete** (⏱️ 5806.02 seconds)  <br>\n",
    "🏆 Best fitness: `0.32668` (observed at iteration 3)   <br>\n",
    "📍 Best fitness model: `traffic_training/train37`  <br>\n",
    "\n",
    "### 📈 Best Fitness Metrics:\n",
    "- **Precision (B):** 0.64461\n",
    "- **Recall (B):** 0.41534\n",
    "- **mAP@50 (B):** 0.54009\n",
    "- **mAP@50–95 (B):** 0.30297\n",
    "- **Box Loss:** 1.37739\n",
    "- **Class Loss:** 0.99681\n",
    "- **DFL Loss:** 1.15922\n",
    "- **Fitness Score:** 0.32668\n",
    "\n",
    "---\n",
    "\n",
    "### 🧪 Best Hyperparameters:\n",
    "\n",
    "| Parameter           | Value     |\n",
    "|---------------------|-----------|\n",
    "| `lr0`               | 0.00955   |\n",
    "| `lrf`               | 0.00998   |\n",
    "| `momentum`          | 0.97997   |\n",
    "| `weight_decay`      | 0.00054   |\n",
    "| `warmup_epochs`     | 2.54319   |\n",
    "| `warmup_momentum`   | 0.94159   |\n",
    "| `box`               | 7.99327   |\n",
    "| `cls`               | 0.42895   |\n",
    "| `dfl`               | 1.61663   |\n",
    "| `hsv_h`             | 0.01156   |\n",
    "| `hsv_s`             | 0.75561   |\n",
    "| `hsv_v`             | 0.31895   |\n",
    "| `degrees`           | 0.0       |\n",
    "| `translate`         | 0.10405   |\n",
    "| `scale`             | 0.4834    |\n",
    "| `shear`             | 0.0       |\n",
    "| `perspective`       | 0.0       |\n",
    "| `flipud`            | 0.0       |\n",
    "| `fliplr`            | 0.40892   |\n",
    "| `bgr`               | 0.0       |\n",
    "| `mosaic`            | 1.0       |\n",
    "| `mixup`             | 0.0       |\n",
    "| `cutmix`            | 0.0       |\n",
    "| `copy_paste`        | 0.0       |\n"
   ],
   "id": "1dad906378b7b663"
  },
  {
   "metadata": {},
   "cell_type": "markdown",
   "source": "# Visualizations",
   "id": "bec7a347906cdb03"
  },
  {
   "metadata": {},
   "cell_type": "code",
   "outputs": [],
   "execution_count": null,
   "source": [
    "import os\n",
    "import pandas as pd\n",
    "from collections import defaultdict\n",
    "import numpy as np\n",
    "import matplotlib.pyplot as plt\n",
    "import seaborn as sns\n",
    "from matplotlib.colors import LinearSegmentedColormap"
   ],
   "id": "e13de59bef5574"
  },
  {
   "metadata": {},
   "cell_type": "code",
   "outputs": [],
   "execution_count": null,
   "source": [
    "\n",
    "# dir paths\n",
    "train_label_dir = \"../../traffic_data/train/labels\"\n",
    "val_label_dir = \"../../traffic_data/valid/labels\"\n",
    "train_image_dir = \"../../traffic_data/train/images\"\n",
    "output_dir = \"../output_plots\"\n",
    "\n",
    "# custom colour palette\n",
    "custom_palette = [\n",
    "    \"#032a4d\", \"#00457a\", \"#0458a5\", \"#0476df\", \"#50b1ff\", \"#88cbff\", \"#9e9e9e\"\n",
    "]\n",
    "\n",
    "# clsses\n",
    "class_names = [\n",
    "'ambulance', 'army vehicle', 'auto rickshaw', 'bicycle', 'bus', 'car', 'garbagevan', 'human hauler', 'minibus', 'minivan', 'motorbike', 'pickup', 'policecar', 'rickshaw', 'scooter', 'suv', 'taxi', 'three wheelers -CNG-', 'truck', 'van', 'wheelbarrow'\n",
    "]"
   ],
   "id": "fbe237b7ae8631e3"
  },
  {
   "metadata": {},
   "cell_type": "code",
   "outputs": [],
   "execution_count": null,
   "source": [
    "# Function to process label files and count classes\n",
    "def process_labels(label_dir):\n",
    "    class_counts = defaultdict(int)\n",
    "    objects_per_image = []\n",
    "    bbox_sizes = []\n",
    "\n",
    "    for file in os.listdir(label_dir):\n",
    "        if file.endswith(\".txt\"):\n",
    "            with open(os.path.join(label_dir, file), \"r\") as f:\n",
    "                lines = f.readlines()\n",
    "                objects_per_image.append(len(lines))\n",
    "                for line in lines:\n",
    "                    parts = line.strip().split()\n",
    "                    if len(parts) == 5:\n",
    "                        class_id = int(parts[0])\n",
    "                        width = float(parts[3])\n",
    "                        height = float(parts[4])\n",
    "                        class_counts[class_names[class_id]] += 1\n",
    "                        bbox_sizes.append(width * height)\n",
    "    return class_counts, objects_per_image, bbox_sizes\n"
   ],
   "id": "a090d960c6483ac2"
  },
  {
   "metadata": {},
   "cell_type": "code",
   "outputs": [],
   "execution_count": null,
   "source": [
    "# Process labels\n",
    "train_counts, train_objs, train_bbox = process_labels(train_label_dir)\n",
    "val_counts, val_objs, val_bbox = process_labels(val_label_dir)\n",
    "\n",
    "total_counts = train_counts.copy()\n",
    "for k, v in val_counts.items():\n",
    "    total_counts[k] += v\n",
    "all_objects = train_objs + val_objs"
   ],
   "id": "2f241e81d45ffa2c"
  },
  {
   "metadata": {},
   "cell_type": "code",
   "outputs": [],
   "execution_count": null,
   "source": [
    "sns.set_theme(style=\"whitegrid\")\n",
    "os.makedirs(output_dir, exist_ok=True)"
   ],
   "id": "8dec8564d9bfb3e3"
  },
  {
   "metadata": {},
   "cell_type": "code",
   "outputs": [],
   "execution_count": null,
   "source": "df_counts = pd.DataFrame(total_counts.items(), columns=[\"Class\", \"Count\"]).sort_values(\"Count\", ascending=False)",
   "id": "e191124b2a0fa449"
  },
  {
   "metadata": {},
   "cell_type": "code",
   "outputs": [],
   "execution_count": null,
   "source": [
    "\n",
    "# Bar Plot of Distributiion\n",
    "plt.figure(figsize=(12, 6))\n",
    "sns.barplot(data=df_counts, x=\"Class\", y=\"Count\", palette=custom_palette * (len(df_counts) // len(custom_palette) + 1))\n",
    "plt.xticks(rotation=45)\n",
    "plt.title(\"Class Distribution (Train + Val)\")\n",
    "plt.tight_layout()\n",
    "\n",
    "plt.savefig(os.path.join(output_dir, \"SMALL_class_distribution.png\"))\n",
    "plt.close()"
   ],
   "id": "18ce21d71b40ef45"
  },
  {
   "metadata": {},
   "cell_type": "code",
   "outputs": [],
   "execution_count": null,
   "source": [
    "\n",
    "# Pie Chart Distribution\n",
    "top5 = df_counts.head(5)\n",
    "plt.figure(figsize=(6, 6))\n",
    "plt.pie(top5[\"Count\"], labels=top5[\"Class\"], colors=custom_palette[:5], autopct='%1.1f%%', startangle=140)\n",
    "plt.tight_layout()\n",
    "plt.savefig(os.path.join(output_dir, \"top5_class_pie.png\"))\n",
    "plt.close()\n"
   ],
   "id": "c4c4fea9c6fa547b"
  },
  {
   "metadata": {},
   "cell_type": "code",
   "outputs": [],
   "execution_count": null,
   "source": [
    "# Heatmap of Bounding Boxes\n",
    "\n",
    "image_width = 640\n",
    "image_height = 360\n",
    "output_path = \"./bbox_heatmap.png\"\n",
    "\n",
    "# extra palette for heatmap\n",
    "custom_palette = [\n",
    "    \"#032a4d\", \"#00457a\", \"#0458a5\", \"#0476df\", \"#50b1ff\", \"#88cbff\", \"#9e9e9e\"\n",
    "]\n",
    "custom_cmap = LinearSegmentedColormap.from_list(\"custom_blues\", custom_palette)\n",
    "\n",
    "# bbxos centers\n",
    "\n",
    "x_centers = []\n",
    "y_centers = []\n",
    "\n",
    "for fname in os.listdir(train_label_dir):\n",
    "    if not fname.endswith(\".txt\"):\n",
    "        continue\n",
    "    with open(os.path.join(train_label_dir, fname), \"r\") as f:\n",
    "        for line in f:\n",
    "            parts = line.strip().split()\n",
    "            if len(parts) != 5:\n",
    "                continue\n",
    "            _, x, y, _, _ = map(float, parts)\n",
    "            x_centers.append(int(x * image_width))\n",
    "            y_centers.append(int(y * image_height))\n",
    "\n",
    "# heatmap\n",
    "heatmap, xedges, yedges = np.histogram2d(\n",
    "    x_centers, y_centers,\n",
    "    bins=(64, 36),\n",
    "    range=[[0, image_width], [0, image_height]]\n",
    ")\n",
    "\n",
    "# Plot\n",
    "plt.figure(figsize=(3.4, 2.5))  # Single-column LaTeX size\n",
    "sns.set_style(\"white\")\n",
    "sns.heatmap(\n",
    "    heatmap.T,\n",
    "    cmap=custom_cmap,\n",
    "    cbar=True,\n",
    "    xticklabels=False,\n",
    "    yticklabels=False\n",
    ")\n",
    "\n",
    "plt.xlabel(\"Image Width (px)\", fontsize=8)\n",
    "plt.ylabel(\"Image Height (px)\", fontsize=8)\n",
    "plt.tight_layout()\n",
    "plt.savefig(output_path, dpi=300, bbox_inches=\"tight\")\n",
    "plt.close()\n"
   ],
   "id": "d6101adbc216a4ff"
  }
 ],
 "metadata": {
  "kernelspec": {
   "display_name": "Python 3",
   "language": "python",
   "name": "python3"
  },
  "language_info": {
   "codemirror_mode": {
    "name": "ipython",
    "version": 2
   },
   "file_extension": ".py",
   "mimetype": "text/x-python",
   "name": "python",
   "nbconvert_exporter": "python",
   "pygments_lexer": "ipython2",
   "version": "2.7.6"
  }
 },
 "nbformat": 4,
 "nbformat_minor": 5
}
