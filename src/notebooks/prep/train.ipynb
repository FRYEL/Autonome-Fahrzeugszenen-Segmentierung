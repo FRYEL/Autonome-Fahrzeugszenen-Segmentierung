{
 "cells": [
  {
   "metadata": {},
   "cell_type": "code",
   "source": [
    "from ultralytics import YOLO\n",
    "import torch"
   ],
   "id": "ab90bf0f21c6efed",
   "outputs": [],
   "execution_count": null
  },
  {
   "metadata": {},
   "cell_type": "code",
   "source": "model = YOLO(\"../../../yolov8n.pt\")  # oder yolov8s.pt, yolov8m.pt, yolov8l.pt, yolov8x.pt",
   "id": "e1f6e01271aeb84f",
   "outputs": [],
   "execution_count": null
  },
  {
   "metadata": {},
   "cell_type": "code",
   "source": [
    "model.train(\n",
    "    data=\"../traffic_data/data_1.yaml\",\n",
    "    epochs=50,\n",
    "    imgsz=640,\n",
    "    batch=16,\n",
    "    device=0,  # RTX 2060\n",
    "    workers=8,  # Ryzen 7 2700X\n",
    "    optimizer=\"auto\",\n",
    "    lr0=0.001,\n",
    "    patience=20,\n",
    "    amp=True,\n",
    "    hsv_h=0.015,\n",
    "    hsv_s=0.7,\n",
    "    hsv_v=0.4,\n",
    "    degrees=5.0,\n",
    "    translate=0.1,\n",
    "    scale=0.5,\n",
    "    fliplr=0.5,\n",
    "    mosaic=1.0,\n",
    "    project=\"traffic_training\",\n",
    "    name=\"traffic_yolov8n\",\n",
    "    save=True,\n",
    "    plots=True\n",
    ")"
   ],
   "id": "19e4987fb694155e",
   "outputs": [],
   "execution_count": null
  },
  {
   "metadata": {},
   "cell_type": "code",
   "source": "model_next_iter = YOLO(\"../../traffic_training/traffic_yolov8n/weights/last.pt\")  # Load the latest model from training\n",
   "id": "c77fc0f67319372b",
   "outputs": [],
   "execution_count": null
  },
  {
   "metadata": {},
   "cell_type": "code",
   "source": [
    "\n",
    "model_next_iter.train(\n",
    "    data=\"../traffic_data/data_1.yaml\",\n",
    "    epochs=80,\n",
    "  #  resume=True,\n",
    "    imgsz=640,\n",
    "    batch=16,\n",
    "    device=0,  # RTX 2060\n",
    "    workers=8,  # Ryzen 7 2700X\n",
    "    optimizer=\"auto\",\n",
    "    lr0=0.00025,\n",
    "    patience=10,\n",
    "    amp=True,\n",
    "    hsv_h=0.015,\n",
    "    hsv_s=0.7,\n",
    "    hsv_v=0.4,\n",
    "    degrees=5.0,\n",
    "    translate=0.1,\n",
    "    scale=0.5,\n",
    "    fliplr=0.5,\n",
    "    mosaic=1.0,\n",
    "    project=\"traffic_training\",\n",
    "    name=\"traffic_yolov8n4\",\n",
    "    save=True,\n",
    "    plots=True\n",
    ")"
   ],
   "id": "b7841f81591be967",
   "outputs": [],
   "execution_count": null
  },
  {
   "metadata": {},
   "cell_type": "code",
   "source": [
    "result_my = model_next_iter.predict(\"../traffic_data/train/images/03_jpg.rf.4532f2db68433995da09f54e215160f3.jpg\")\n",
    "for result in result_my:\n",
    "    result.show()"
   ],
   "id": "5da590aca6f61eed",
   "outputs": [],
   "execution_count": null
  },
  {
   "metadata": {},
   "cell_type": "code",
   "source": [
    "model = YOLO(\"../../../yolov8n.pt\")\n",
    "result = model.predict(\"../traffic_data/train/images/03_jpg.rf.4532f2db68433995da09f54e215160f3.jpg\")\n",
    "for result in result:\n",
    "    result.show()"
   ],
   "id": "ea0239e87ce5dcfc",
   "outputs": [],
   "execution_count": null
  },
  {
   "metadata": {},
   "cell_type": "code",
   "source": "",
   "id": "cc1af9365a044ba6",
   "outputs": [],
   "execution_count": null
  },
  {
   "metadata": {},
   "cell_type": "code",
   "source": "result2 = model.predict(\"../traffic_data/valid/images/Pias--173-_jpg.rf.929b5f53b64db0cb7ccf17fd9aa19b6e.jpg\",save=True)",
   "id": "8157b045121d6e6a",
   "outputs": [],
   "execution_count": null
  },
  {
   "metadata": {},
   "cell_type": "code",
   "source": "print(torch.__version__)  # Should show latest version, e.g., \"2.7.1+cu118\"",
   "id": "82b1ca2a4a077895",
   "outputs": [],
   "execution_count": null
  },
  {
   "metadata": {},
   "cell_type": "code",
   "source": "print(torch.cuda.is_available())  # Should return True",
   "id": "5d3ed87aac6d962c",
   "outputs": [],
   "execution_count": null
  },
  {
   "metadata": {},
   "cell_type": "code",
   "source": "print(torch.cuda.get_device_name(0))  # Should return \"NVIDIA GeForce RTX 2060\"",
   "id": "669ef5dffe12226d",
   "outputs": [],
   "execution_count": null
  },
  {
   "metadata": {},
   "cell_type": "code",
   "source": "print(torch.version.cuda)  # Should return \"11.8\"",
   "id": "854f6fc762e08001",
   "outputs": [],
   "execution_count": null
  },
  {
   "metadata": {},
   "cell_type": "code",
   "source": "# What to do next",
   "id": "fe6c4ca88d5f1296",
   "outputs": [],
   "execution_count": null
  },
  {
   "metadata": {},
   "cell_type": "code",
   "source": [
    "from ultralytics import YOLO\n",
    "\n",
    "model = YOLO(\"../../traffic_training/best_tuning/train37/weights/best.pt\")  # Load the best model from training\n",
    "results = model.val(data=\"../traffic_data/data_1.yaml\")\n"
   ],
   "id": "b278a809913da47b",
   "outputs": [],
   "execution_count": null
  },
  {
   "metadata": {},
   "cell_type": "code",
   "source": [
    "for i, class_name in results.items():\n",
    "    print(f\"{class_name}: mAP@50 = {results.maps[i]:.4f}\")"
   ],
   "id": "1d4ff09888cc3b6f",
   "outputs": [],
   "execution_count": null
  }
 ],
 "metadata": {
  "kernelspec": {
   "display_name": "Python 3",
   "language": "python",
   "name": "python3"
  },
  "language_info": {
   "codemirror_mode": {
    "name": "ipython",
    "version": 2
   },
   "file_extension": ".py",
   "mimetype": "text/x-python",
   "name": "python",
   "nbconvert_exporter": "python",
   "pygments_lexer": "ipython2",
   "version": "2.7.6"
  }
 },
 "nbformat": 4,
 "nbformat_minor": 5
}
