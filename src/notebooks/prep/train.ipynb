{
 "cells": [
  {
   "metadata": {
    "ExecuteTime": {
     "end_time": "2025-06-24T11:31:00.893844Z",
     "start_time": "2025-06-24T11:30:57.366785Z"
    }
   },
   "cell_type": "code",
   "source": [
    "from ultralytics import YOLO\n",
    "import torch"
   ],
   "id": "ab90bf0f21c6efed",
   "outputs": [],
   "execution_count": 2
  },
  {
   "metadata": {},
   "cell_type": "code",
   "source": "model = YOLO(\"../../../yolov8n.pt\")  # oder yolov8s.pt, yolov8m.pt, yolov8l.pt, yolov8x.pt",
   "id": "e1f6e01271aeb84f",
   "outputs": [],
   "execution_count": null
  },
  {
   "metadata": {},
   "cell_type": "code",
   "source": [
    "model.train(\n",
    "    data=\"../traffic_data/data_1.yaml\",\n",
    "    epochs=50,\n",
    "    imgsz=640,\n",
    "    batch=16,\n",
    "    device=0,  # RTX 2060\n",
    "    workers=8,  # Ryzen 7 2700X\n",
    "    optimizer=\"auto\",\n",
    "    lr0=0.001,\n",
    "    patience=20,\n",
    "    amp=True,\n",
    "    hsv_h=0.015,\n",
    "    hsv_s=0.7,\n",
    "    hsv_v=0.4,\n",
    "    degrees=5.0,\n",
    "    translate=0.1,\n",
    "    scale=0.5,\n",
    "    fliplr=0.5,\n",
    "    mosaic=1.0,\n",
    "    project=\"traffic_training\",\n",
    "    name=\"traffic_yolov8n\",\n",
    "    save=True,\n",
    "    plots=True\n",
    ")"
   ],
   "id": "19e4987fb694155e",
   "outputs": [],
   "execution_count": null
  },
  {
   "metadata": {},
   "cell_type": "code",
   "source": "model_next_iter = YOLO(\"../../traffic_training/traffic_yolov8n/weights/last.pt\")  # Load the latest model from training\n",
   "id": "c77fc0f67319372b",
   "outputs": [],
   "execution_count": null
  },
  {
   "metadata": {},
   "cell_type": "code",
   "source": [
    "\n",
    "model_next_iter.train(\n",
    "    data=\"../traffic_data/data_1.yaml\",\n",
    "    epochs=80,\n",
    "  #  resume=True,\n",
    "    imgsz=640,\n",
    "    batch=16,\n",
    "    device=0,  # RTX 2060\n",
    "    workers=8,  # Ryzen 7 2700X\n",
    "    optimizer=\"auto\",\n",
    "    lr0=0.00025,\n",
    "    patience=10,\n",
    "    amp=True,\n",
    "    hsv_h=0.015,\n",
    "    hsv_s=0.7,\n",
    "    hsv_v=0.4,\n",
    "    degrees=5.0,\n",
    "    translate=0.1,\n",
    "    scale=0.5,\n",
    "    fliplr=0.5,\n",
    "    mosaic=1.0,\n",
    "    project=\"traffic_training\",\n",
    "    name=\"traffic_yolov8n4\",\n",
    "    save=True,\n",
    "    plots=True\n",
    ")"
   ],
   "id": "b7841f81591be967",
   "outputs": [],
   "execution_count": null
  },
  {
   "metadata": {},
   "cell_type": "code",
   "source": [
    "result_my = model_next_iter.predict(\"../traffic_data/train/images/03_jpg.rf.4532f2db68433995da09f54e215160f3.jpg\")\n",
    "for result in result_my:\n",
    "    result.show()"
   ],
   "id": "5da590aca6f61eed",
   "outputs": [],
   "execution_count": null
  },
  {
   "metadata": {},
   "cell_type": "code",
   "source": [
    "model = YOLO(\"../../../yolov8n.pt\")\n",
    "result = model.predict(\"../traffic_data/train/images/03_jpg.rf.4532f2db68433995da09f54e215160f3.jpg\")\n",
    "for result in result:\n",
    "    result.show()"
   ],
   "id": "ea0239e87ce5dcfc",
   "outputs": [],
   "execution_count": null
  },
  {
   "metadata": {},
   "cell_type": "code",
   "source": "",
   "id": "cc1af9365a044ba6",
   "outputs": [],
   "execution_count": null
  },
  {
   "metadata": {},
   "cell_type": "code",
   "source": "result2 = model.predict(\"../traffic_data/valid/images/Pias--173-_jpg.rf.929b5f53b64db0cb7ccf17fd9aa19b6e.jpg\",save=True)",
   "id": "8157b045121d6e6a",
   "outputs": [],
   "execution_count": null
  },
  {
   "metadata": {},
   "cell_type": "code",
   "source": "print(torch.__version__)  # Should show latest version, e.g., \"2.7.1+cu118\"",
   "id": "82b1ca2a4a077895",
   "outputs": [],
   "execution_count": null
  },
  {
   "metadata": {},
   "cell_type": "code",
   "source": "print(torch.cuda.is_available())  # Should return True",
   "id": "5d3ed87aac6d962c",
   "outputs": [],
   "execution_count": null
  },
  {
   "metadata": {},
   "cell_type": "code",
   "source": "print(torch.cuda.get_device_name(0))  # Should return \"NVIDIA GeForce RTX 2060\"",
   "id": "669ef5dffe12226d",
   "outputs": [],
   "execution_count": null
  },
  {
   "metadata": {},
   "cell_type": "code",
   "source": "print(torch.version.cuda)  # Should return \"11.8\"",
   "id": "854f6fc762e08001",
   "outputs": [],
   "execution_count": null
  },
  {
   "metadata": {},
   "cell_type": "code",
   "source": "# What to do next",
   "id": "fe6c4ca88d5f1296",
   "outputs": [],
   "execution_count": null
  },
  {
   "metadata": {},
   "cell_type": "code",
   "source": [
    "from ultralytics import YOLO\n",
    "\n",
    "model = YOLO(\"../../traffic_training/best_tuning/train37/weights/best.pt\")  # Load the best model from training\n",
    "results = model.val(data=\"../traffic_data/data_1.yaml\")\n"
   ],
   "id": "b278a809913da47b",
   "outputs": [],
   "execution_count": null
  },
  {
   "metadata": {},
   "cell_type": "code",
   "source": [
    "for i, class_name in results.items():\n",
    "    print(f\"{class_name}: mAP@50 = {results.maps[i]:.4f}\")"
   ],
   "id": "1d4ff09888cc3b6f",
   "outputs": [],
   "execution_count": null
  },
  {
   "metadata": {
    "ExecuteTime": {
     "end_time": "2025-06-24T11:31:59.544358Z",
     "start_time": "2025-06-24T11:31:59.303842Z"
    }
   },
   "cell_type": "code",
   "source": "model = YOLO(\"yolo11\")",
   "id": "3d717d5e47da0ba3",
   "outputs": [
    {
     "ename": "FileNotFoundError",
     "evalue": "'yolo11' does not exist",
     "output_type": "error",
     "traceback": [
      "\u001B[31m---------------------------------------------------------------------------\u001B[39m",
      "\u001B[31mFileNotFoundError\u001B[39m                         Traceback (most recent call last)",
      "\u001B[36mCell\u001B[39m\u001B[36m \u001B[39m\u001B[32mIn[6]\u001B[39m\u001B[32m, line 1\u001B[39m\n\u001B[32m----> \u001B[39m\u001B[32m1\u001B[39m model = \u001B[43mYOLO\u001B[49m\u001B[43m(\u001B[49m\u001B[33;43m\"\u001B[39;49m\u001B[33;43myolo11\u001B[39;49m\u001B[33;43m\"\u001B[39;49m\u001B[43m)\u001B[49m\n",
      "\u001B[36mFile \u001B[39m\u001B[32m~/PycharmProjects/Software_Engineering/.venv/lib/python3.12/site-packages/ultralytics/models/yolo/model.py:79\u001B[39m, in \u001B[36mYOLO.__init__\u001B[39m\u001B[34m(self, model, task, verbose)\u001B[39m\n\u001B[32m     76\u001B[39m     \u001B[38;5;28mself\u001B[39m.\u001B[34m__dict__\u001B[39m = new_instance.\u001B[34m__dict__\u001B[39m\n\u001B[32m     77\u001B[39m \u001B[38;5;28;01melse\u001B[39;00m:\n\u001B[32m     78\u001B[39m     \u001B[38;5;66;03m# Continue with default YOLO initialization\u001B[39;00m\n\u001B[32m---> \u001B[39m\u001B[32m79\u001B[39m     \u001B[38;5;28;43msuper\u001B[39;49m\u001B[43m(\u001B[49m\u001B[43m)\u001B[49m\u001B[43m.\u001B[49m\u001B[34;43m__init__\u001B[39;49m\u001B[43m(\u001B[49m\u001B[43mmodel\u001B[49m\u001B[43m=\u001B[49m\u001B[43mmodel\u001B[49m\u001B[43m,\u001B[49m\u001B[43m \u001B[49m\u001B[43mtask\u001B[49m\u001B[43m=\u001B[49m\u001B[43mtask\u001B[49m\u001B[43m,\u001B[49m\u001B[43m \u001B[49m\u001B[43mverbose\u001B[49m\u001B[43m=\u001B[49m\u001B[43mverbose\u001B[49m\u001B[43m)\u001B[49m\n\u001B[32m     80\u001B[39m     \u001B[38;5;28;01mif\u001B[39;00m \u001B[38;5;28mhasattr\u001B[39m(\u001B[38;5;28mself\u001B[39m.model, \u001B[33m\"\u001B[39m\u001B[33mmodel\u001B[39m\u001B[33m\"\u001B[39m) \u001B[38;5;129;01mand\u001B[39;00m \u001B[33m\"\u001B[39m\u001B[33mRTDETR\u001B[39m\u001B[33m\"\u001B[39m \u001B[38;5;129;01min\u001B[39;00m \u001B[38;5;28mself\u001B[39m.model.model[-\u001B[32m1\u001B[39m]._get_name():  \u001B[38;5;66;03m# if RTDETR head\u001B[39;00m\n\u001B[32m     81\u001B[39m         \u001B[38;5;28;01mfrom\u001B[39;00m\u001B[38;5;250m \u001B[39m\u001B[34;01multralytics\u001B[39;00m\u001B[38;5;250m \u001B[39m\u001B[38;5;28;01mimport\u001B[39;00m RTDETR\n",
      "\u001B[36mFile \u001B[39m\u001B[32m~/PycharmProjects/Software_Engineering/.venv/lib/python3.12/site-packages/ultralytics/engine/model.py:151\u001B[39m, in \u001B[36mModel.__init__\u001B[39m\u001B[34m(self, model, task, verbose)\u001B[39m\n\u001B[32m    149\u001B[39m     \u001B[38;5;28mself\u001B[39m._new(model, task=task, verbose=verbose)\n\u001B[32m    150\u001B[39m \u001B[38;5;28;01melse\u001B[39;00m:\n\u001B[32m--> \u001B[39m\u001B[32m151\u001B[39m     \u001B[38;5;28;43mself\u001B[39;49m\u001B[43m.\u001B[49m\u001B[43m_load\u001B[49m\u001B[43m(\u001B[49m\u001B[43mmodel\u001B[49m\u001B[43m,\u001B[49m\u001B[43m \u001B[49m\u001B[43mtask\u001B[49m\u001B[43m=\u001B[49m\u001B[43mtask\u001B[49m\u001B[43m)\u001B[49m\n\u001B[32m    153\u001B[39m \u001B[38;5;66;03m# Delete super().training for accessing self.model.training\u001B[39;00m\n\u001B[32m    154\u001B[39m \u001B[38;5;28;01mdel\u001B[39;00m \u001B[38;5;28mself\u001B[39m.training\n",
      "\u001B[36mFile \u001B[39m\u001B[32m~/PycharmProjects/Software_Engineering/.venv/lib/python3.12/site-packages/ultralytics/engine/model.py:300\u001B[39m, in \u001B[36mModel._load\u001B[39m\u001B[34m(self, weights, task)\u001B[39m\n\u001B[32m    298\u001B[39m     \u001B[38;5;28mself\u001B[39m.ckpt_path = \u001B[38;5;28mself\u001B[39m.model.pt_path\n\u001B[32m    299\u001B[39m \u001B[38;5;28;01melse\u001B[39;00m:\n\u001B[32m--> \u001B[39m\u001B[32m300\u001B[39m     weights = \u001B[43mchecks\u001B[49m\u001B[43m.\u001B[49m\u001B[43mcheck_file\u001B[49m\u001B[43m(\u001B[49m\u001B[43mweights\u001B[49m\u001B[43m)\u001B[49m  \u001B[38;5;66;03m# runs in all cases, not redundant with above call\u001B[39;00m\n\u001B[32m    301\u001B[39m     \u001B[38;5;28mself\u001B[39m.model, \u001B[38;5;28mself\u001B[39m.ckpt = weights, \u001B[38;5;28;01mNone\u001B[39;00m\n\u001B[32m    302\u001B[39m     \u001B[38;5;28mself\u001B[39m.task = task \u001B[38;5;129;01mor\u001B[39;00m guess_model_task(weights)\n",
      "\u001B[36mFile \u001B[39m\u001B[32m~/PycharmProjects/Software_Engineering/.venv/lib/python3.12/site-packages/ultralytics/utils/checks.py:568\u001B[39m, in \u001B[36mcheck_file\u001B[39m\u001B[34m(file, suffix, download, download_dir, hard)\u001B[39m\n\u001B[32m    566\u001B[39m files = glob.glob(\u001B[38;5;28mstr\u001B[39m(ROOT / \u001B[33m\"\u001B[39m\u001B[33m**\u001B[39m\u001B[33m\"\u001B[39m / file), recursive=\u001B[38;5;28;01mTrue\u001B[39;00m) \u001B[38;5;129;01mor\u001B[39;00m glob.glob(\u001B[38;5;28mstr\u001B[39m(ROOT.parent / file))  \u001B[38;5;66;03m# find file\u001B[39;00m\n\u001B[32m    567\u001B[39m \u001B[38;5;28;01mif\u001B[39;00m \u001B[38;5;129;01mnot\u001B[39;00m files \u001B[38;5;129;01mand\u001B[39;00m hard:\n\u001B[32m--> \u001B[39m\u001B[32m568\u001B[39m     \u001B[38;5;28;01mraise\u001B[39;00m \u001B[38;5;167;01mFileNotFoundError\u001B[39;00m(\u001B[33mf\u001B[39m\u001B[33m\"\u001B[39m\u001B[33m'\u001B[39m\u001B[38;5;132;01m{\u001B[39;00mfile\u001B[38;5;132;01m}\u001B[39;00m\u001B[33m'\u001B[39m\u001B[33m does not exist\u001B[39m\u001B[33m\"\u001B[39m)\n\u001B[32m    569\u001B[39m \u001B[38;5;28;01melif\u001B[39;00m \u001B[38;5;28mlen\u001B[39m(files) > \u001B[32m1\u001B[39m \u001B[38;5;129;01mand\u001B[39;00m hard:\n\u001B[32m    570\u001B[39m     \u001B[38;5;28;01mraise\u001B[39;00m \u001B[38;5;167;01mFileNotFoundError\u001B[39;00m(\u001B[33mf\u001B[39m\u001B[33m\"\u001B[39m\u001B[33mMultiple files match \u001B[39m\u001B[33m'\u001B[39m\u001B[38;5;132;01m{\u001B[39;00mfile\u001B[38;5;132;01m}\u001B[39;00m\u001B[33m'\u001B[39m\u001B[33m, specify exact path: \u001B[39m\u001B[38;5;132;01m{\u001B[39;00mfiles\u001B[38;5;132;01m}\u001B[39;00m\u001B[33m\"\u001B[39m)\n",
      "\u001B[31mFileNotFoundError\u001B[39m: 'yolo11' does not exist"
     ]
    }
   ],
   "execution_count": 6
  },
  {
   "metadata": {},
   "cell_type": "code",
   "outputs": [],
   "execution_count": null,
   "source": "",
   "id": "efdf98ea889cdc88"
  }
 ],
 "metadata": {
  "kernelspec": {
   "display_name": "Python 3",
   "language": "python",
   "name": "python3"
  },
  "language_info": {
   "codemirror_mode": {
    "name": "ipython",
    "version": 2
   },
   "file_extension": ".py",
   "mimetype": "text/x-python",
   "name": "python",
   "nbconvert_exporter": "python",
   "pygments_lexer": "ipython2",
   "version": "2.7.6"
  }
 },
 "nbformat": 4,
 "nbformat_minor": 5
}
