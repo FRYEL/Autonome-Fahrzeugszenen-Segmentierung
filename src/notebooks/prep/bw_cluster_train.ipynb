{
 "cells": [
  {
   "cell_type": "code",
   "execution_count": null,
   "id": "441ea8f7-41d8-4955-a00e-2042672cc15d",
   "metadata": {},
   "outputs": [],
   "source": [
    "%pip install -r requirements.txt"
   ]
  },
  {
   "cell_type": "code",
   "execution_count": null,
   "id": "cd1745b7-9d68-4239-b6b3-635189a45d39",
   "metadata": {},
   "outputs": [],
   "source": [
    "%pip install optuna ultralytics\n",
    "\n"
   ]
  },
  {
   "cell_type": "code",
   "execution_count": null,
   "id": "2be27d2a-287f-4556-a91f-0ab8ed795e5d",
   "metadata": {},
   "outputs": [],
   "source": [
    "result"
   ]
  },
  {
   "cell_type": "code",
   "execution_count": null,
   "id": "ab90bf0f21c6efed",
   "metadata": {
    "ExecuteTime": {
     "end_time": "2025-06-11T19:24:19.311688Z",
     "start_time": "2025-06-11T19:24:05.429932Z"
    }
   },
   "outputs": [],
   "source": [
    "from ultralytics import YOLO\n",
    "import optuna\n",
    "import torch"
   ]
  },
  {
   "cell_type": "code",
   "execution_count": 2,
   "id": "e1f6e01271aeb84f",
   "metadata": {},
   "outputs": [],
   "source": "model = YOLO(\"../../yolo11n.pt\")  # oder yolov8s.pt, yolov8m.pt, yolov8l.pt, yolov8x.pt"
  },
  {
   "cell_type": "code",
   "execution_count": null,
   "id": "19e4987fb694155e",
   "metadata": {},
   "outputs": [],
   "source": [
    "\"\"\"model.train(\n",
    "    data=\"traffic_data/data_1.yaml\",\n",
    "    epochs=80,\n",
    "    imgsz=640,\n",
    "    batch=16,\n",
    "    #device=auto,  # RTX 2060\n",
    "    #workers=8,  # Ryzen 7 2700X\n",
    "    optimizer=\"auto\",\n",
    "    lr0=0.001,\n",
    "    patience=20,\n",
    "    amp=True,\n",
    "    hsv_h=0.015,\n",
    "    hsv_s=0.7,\n",
    "    hsv_v=0.4,\n",
    "    degrees=5.0,\n",
    "    translate=0.1,\n",
    "    scale=0.5,\n",
    "    fliplr=0.5,\n",
    "    mosaic=1.0,\n",
    "    project=\"traffic_training\",\n",
    "    name=\"traffic_yolov8n5\",\n",
    "    save=True,\n",
    "    plots=True\n",
    ")\"\"\""
   ]
  },
  {
   "cell_type": "code",
   "execution_count": null,
   "id": "c77fc0f67319372b",
   "metadata": {
    "ExecuteTime": {
     "end_time": "2025-06-11T19:24:26.564633Z",
     "start_time": "2025-06-11T19:24:25.895750Z"
    }
   },
   "outputs": [],
   "source": [
    "model_next_iter = YOLO(\"traffic_training/traffic_yolov11n_car5/weights/best.pt\")  # Load the latest model from training\n"
   ]
  },
  {
   "cell_type": "code",
   "execution_count": null,
   "id": "b7841f81591be967",
   "metadata": {
    "ExecuteTime": {
     "end_time": "2025-06-11T19:40:32.676159Z",
     "start_time": "2025-06-11T19:26:50.188013Z"
    }
   },
   "outputs": [],
   "source": [
    "\n",
    "model.train(\n",
    "    data=\"traffic_data/traffic_data/data_1.yaml\",\n",
    "    epochs=80,\n",
    "    imgsz=640,\n",
    "    batch=16,\n",
    "    device=0,  # RTX 2060\n",
    "    #workers=8,  # Ryzen 7 2700X\n",
    "    #optimizer=\"auto\",\n",
    "    lr0=0.00025,\n",
    "    patience=10,\n",
    "    amp=True,\n",
    "    hsv_h=0.015,\n",
    "    hsv_s=0.7,\n",
    "    hsv_v=0.4,\n",
    "    degrees=5.0,\n",
    "    translate=0.1,\n",
    "    scale=0.5,\n",
    "    fliplr=0.5,\n",
    "    mosaic=1.0,\n",
    "    project=\"traffic_training\",\n",
    "    name=\"traffic_yolo11n_BESTMODEL\",\n",
    "    save=True,\n",
    "    plots=True\n",
    ")"
   ]
  },
  {
   "cell_type": "code",
   "execution_count": null,
   "id": "5da590aca6f61eed",
   "metadata": {
    "ExecuteTime": {
     "end_time": "2025-06-11T20:40:29.168585Z",
     "start_time": "2025-06-11T20:40:29.033155Z"
    }
   },
   "outputs": [],
   "source": [
    "result_my = model_next_iter.predict(\"../traffic_data/train/images/03_jpg.rf.4532f2db68433995da09f54e215160f3.jpg\")\n",
    "for result in result_my:\n",
    "    result.show()"
   ]
  },
  {
   "cell_type": "code",
   "execution_count": null,
   "id": "ea0239e87ce5dcfc",
   "metadata": {
    "ExecuteTime": {
     "end_time": "2025-06-11T20:40:31.377828Z",
     "start_time": "2025-06-11T20:40:31.085832Z"
    }
   },
   "outputs": [],
   "source": [
    "model = YOLO(\"../../../yolov8n.pt\")\n",
    "result = model.predict(\"../traffic_data/train/images/03_jpg.rf.4532f2db68433995da09f54e215160f3.jpg\")\n",
    "for result in result:\n",
    "    result.show()"
   ]
  },
  {
   "cell_type": "code",
   "execution_count": null,
   "id": "cc1af9365a044ba6",
   "metadata": {},
   "outputs": [],
   "source": []
  },
  {
   "cell_type": "code",
   "execution_count": null,
   "id": "8157b045121d6e6a",
   "metadata": {},
   "outputs": [],
   "source": [
    "result2 = model.predict(\"../traffic_data/valid/images/Pias--173-_jpg.rf.929b5f53b64db0cb7ccf17fd9aa19b6e.jpg\",save=True)"
   ]
  },
  {
   "cell_type": "code",
   "execution_count": null,
   "id": "82b1ca2a4a077895",
   "metadata": {},
   "outputs": [],
   "source": [
    "print(torch.__version__)  # Should show latest version, e.g., \"2.7.1+cu118\""
   ]
  },
  {
   "cell_type": "code",
   "execution_count": null,
   "id": "5d3ed87aac6d962c",
   "metadata": {},
   "outputs": [],
   "source": [
    "print(torch.cuda.is_available())  # Should return True"
   ]
  },
  {
   "cell_type": "code",
   "execution_count": null,
   "id": "669ef5dffe12226d",
   "metadata": {},
   "outputs": [],
   "source": [
    "print(torch.cuda.get_device_name(0))  # Should return \"NVIDIA GeForce RTX 2060\""
   ]
  },
  {
   "cell_type": "code",
   "execution_count": null,
   "id": "854f6fc762e08001",
   "metadata": {},
   "outputs": [],
   "source": [
    "print(torch.version.cuda)  # Should return \"11.8\""
   ]
  },
  {
   "cell_type": "code",
   "execution_count": null,
   "id": "f40a2017-494d-44ea-928d-804b912d97b9",
   "metadata": {},
   "outputs": [],
   "source": [
    "def trial_logic(trial):\n",
    "    model = YOLO(\"../../yolo11n.pt\")\n",
    "\n",
    "    model.train(\n",
    "        data=\"traffic_data/traffic_data/data_1.yaml\",\n",
    "        epochs=50,\n",
    "        imgsz=640,\n",
    "        batch=16,\n",
    "        optimizer=\"auto\",\n",
    "        lr0=trial.suggest_loguniform(\"lr0\", 1e-5, 1e-2),\n",
    "        patience=10,\n",
    "        amp=True,\n",
    "        hsv_h=trial.suggest_float(\"hsv_h\", 0.0, 0.05),\n",
    "        hsv_s=trial.suggest_float(\"hsv_s\", 0.5, 0.9),\n",
    "        hsv_v=trial.suggest_float(\"hsv_v\", 0.3, 0.7),\n",
    "        scale=trial.suggest_float(\"scale\", 0.3, 0.6),\n",
    "        fliplr=0.5,\n",
    "        mosaic=1.0,\n",
    "        project=\"traffic_training\",\n",
    "        name=\"traffic_yolo11n_optuna2\",\n",
    "        save=True,\n",
    "        plots=False\n",
    "    )\n",
    "\n",
    "    # Access trainer metrics directly\n",
    "    try:\n",
    "        return model.trainer.results_dict[\"metrics/mAP50-95\"]\n",
    "    except Exception:\n",
    "        raise optuna.TrialPruned()  # if metric not found, prune the trial\n"
   ]
  },
  {
   "cell_type": "code",
   "execution_count": null,
   "id": "7053983d-7cd5-4a78-8d73-9273cebccaeb",
   "metadata": {},
   "outputs": [],
   "source": [
    "study = optuna.create_study(direction=\"maximize\")  # because you want to maximize mAP\n",
    "study.optimize(trial_logic, n_trials=10)"
   ]
  },
  {
   "cell_type": "code",
   "id": "e2f7a303-8d00-4ee8-8fc2-80d40fd74d64",
   "metadata": {
    "scrolled": true
   },
   "source": [
    "from ultralytics import YOLO\n",
    "import torch\n",
    "\n",
    "# Load model\n",
    "model = YOLO(\"../../yolo11n.pt\")\n",
    "\n",
    "# Launch hyperparameter evolution\n",
    "model.tune(\n",
    "    data=\"traffic_data/traffic_data/data_1.yaml\",  # your dataset\n",
    "    epochs=40,\n",
    "    iterations=10, \n",
    "    device=0,\n",
    "    imgsz=640,\n",
    "    batch=16,\n",
    "    optimizer=\"auto\",               # or 'SGD', 'Adam', 'AdamW'\n",
    "    project=\"traffic_training\",\n",
    "    name=\"yolo11n_MAX\",\n",
    "    cache=True                      # cache images for speed\n",
    ")\n"
   ],
   "outputs": [],
   "execution_count": null
  },
  {
   "cell_type": "code",
   "execution_count": 2,
   "id": "d6bbc6df-0561-48a4-80bf-d84d0193a008",
   "metadata": {},
   "outputs": [],
   "source": [
    "model = YOLO(\"traffic_training/train37/weights/best.pt\")"
   ]
  },
  {
   "cell_type": "markdown",
   "id": "8f17925a-5a08-46d1-a484-3ccf837fd699",
   "metadata": {},
   "source": [
    "# Best Parameters Model training"
   ]
  },
  {
   "cell_type": "code",
   "execution_count": null,
   "id": "ab17a8aa-011a-48a7-89ce-9d0f3ee056d7",
   "metadata": {},
   "outputs": [],
   "source": [
    "from ultralytics import YOLO\n",
    "import torch\n",
    "\n",
    "model.train(\n",
    "    data=\"traffic_data/traffic_data/data_1.yaml\",\n",
    "    epochs=80,\n",
    "    imgsz=640,\n",
    "    batch=16,\n",
    "    device=0,  # RTX 2060\n",
    "    optimizer=\"AdamW\",\n",
    "    lr0=0.00955,\n",
    "    lrf=0.00998,\n",
    "    momentum=0.97997,\n",
    "    weight_decay=0.00054,\n",
    "    warmup_epochs=2.54319,\n",
    "    warmup_momentum=0.94159,\n",
    "    box=7.99327,\n",
    "    cls=0.42895,\n",
    "    dfl=1.61663,\n",
    "    hsv_h=0.01156,\n",
    "    hsv_s=0.75561,\n",
    "    hsv_v=0.31895,\n",
    "    degrees=0.0,\n",
    "    translate=0.10405,\n",
    "    scale=0.4834,\n",
    "    shear=0.0,\n",
    "    perspective=0.0,\n",
    "    flipud=0.0,\n",
    "    fliplr=0.40892,\n",
    "    bgr=0.0,\n",
    "    mosaic=1.0,\n",
    "    mixup=0.0,\n",
    "    cutmix=0.0,\n",
    "    copy_paste=0.0,\n",
    "    patience=30,\n",
    "    amp=True,\n",
    "    project=\"traffic_training\",\n",
    "    name=\"traffic_yolo11n_BESTMODEL\",\n",
    "    save=True,\n",
    "    plots=True\n",
    ")\n"
   ]
  },
  {
   "cell_type": "markdown",
   "id": "b4bf8cb8-e808-4f2d-8808-c511d63faefa",
   "metadata": {},
   "source": [
    "# Best Model Eval"
   ]
  },
  {
   "cell_type": "code",
   "execution_count": 2,
   "id": "f3238b73-8a42-4538-9636-ecd47da566e5",
   "metadata": {},
   "outputs": [],
   "source": [
    "from ultralytics import YOLO\n",
    "import torch"
   ]
  },
  {
   "cell_type": "code",
   "execution_count": 3,
   "id": "73297409-db72-43ac-8563-1edf98c1c7cd",
   "metadata": {},
   "outputs": [],
   "source": [
    "best_model = YOLO(\"traffic_training/train37/weights/best.pt\")"
   ]
  },
  {
   "cell_type": "code",
   "execution_count": 4,
   "id": "5b631404-e9da-45e7-a9ba-b4f4170cb362",
   "metadata": {},
   "outputs": [
    {
     "name": "stdout",
     "output_type": "stream",
     "text": [
      "Ultralytics 8.3.153 🚀 Python-3.11.7 torch-2.6.0+cu124 CUDA:0 (NVIDIA A100 80GB PCIe, 81154MiB)\n",
      "YOLO11n summary (fused): 100 layers, 2,585,662 parameters, 0 gradients, 6.3 GFLOPs\n",
      "\u001B[34m\u001B[1mval: \u001B[0mFast image access ✅ (ping: 2.1±0.5 ms, read: 9.2±1.8 MB/s, size: 34.4 KB)\n"
     ]
    },
    {
     "name": "stderr",
     "output_type": "stream",
     "text": [
      "\u001B[34m\u001B[1mval: \u001B[0mScanning /pfs/data6/home/ds/ds_ds/ds_wi22202/traffic_data/traffic_data/valid/labels.cache... 300 images, 0 backgrounds, 0 corrupt: 100%|██████████| 300/300 [00:00<?, ?it/s]"
     ]
    },
    {
     "name": "stdout",
     "output_type": "stream",
     "text": [
      "\u001B[34m\u001B[1mval: \u001B[0m/pfs/data6/home/ds/ds_ds/ds_wi22202/traffic_data/traffic_data/valid/images/Pias--359-_PNG.rf.43bcf36efe5cf8c37552d2c45fffea60.jpg: 9 duplicate labels removed\n",
      "\u001B[34m\u001B[1mval: \u001B[0m/pfs/data6/home/ds/ds_ds/ds_wi22202/traffic_data/traffic_data/valid/images/Pias--360-_PNG.rf.8405b0e44009a9300e0a1100ccf7d5b3.jpg: 7 duplicate labels removed\n"
     ]
    },
    {
     "name": "stderr",
     "output_type": "stream",
     "text": [
      "\n",
      "                 Class     Images  Instances      Box(P          R      mAP50  mAP50-95): 100%|██████████| 19/19 [00:02<00:00,  6.38it/s]\n"
     ]
    },
    {
     "name": "stdout",
     "output_type": "stream",
     "text": [
      "                   all        300       2568      0.645      0.415       0.54      0.303\n",
      "               bicycle         30         32      0.648      0.312      0.368       0.17\n",
      "                   bus        220        425      0.774      0.531      0.644      0.419\n",
      "                   car        239        922      0.769       0.74      0.791      0.519\n",
      "               minibus          2          2      0.341        0.5      0.497      0.397\n",
      "               minivan         87        110      0.486      0.436      0.408      0.308\n",
      "             motorbike        166        335      0.679       0.51      0.562      0.206\n",
      "                pickup        105        142      0.625      0.247      0.378      0.232\n",
      "              rickshaw         62        192       0.74      0.609      0.675      0.428\n",
      "               scooter          1          1          1          0      0.995      0.199\n",
      "  three wheelers -CNG-        148        252      0.835      0.595      0.702      0.466\n",
      "                 truck         53         84      0.549       0.56      0.525      0.343\n",
      "                   van         52         62      0.264      0.248       0.22      0.139\n",
      "           wheelbarrow          9          9      0.677      0.111      0.257      0.108\n",
      "Speed: 0.2ms preprocess, 1.0ms inference, 0.0ms loss, 2.6ms postprocess per image\n",
      "Results saved to \u001B[1mruns/detect/val\u001B[0m\n"
     ]
    }
   ],
   "source": [
    "best_results = best_model.val(data=\"traffic_data/traffic_data/data_1.yaml\")"
   ]
  },
  {
   "cell_type": "code",
   "execution_count": 6,
   "id": "43cabce9-d9bb-464e-a95c-fab79f5a03e4",
   "metadata": {},
   "outputs": [
    {
     "name": "stdout",
     "output_type": "stream",
     "text": [
      "0.3026481379597858\n",
      "0.5403427900006513\n",
      "0.3000627020975204\n"
     ]
    }
   ],
   "source": [
    "print(best_results.box.map)  # list of per-class mAP@0.5\n",
    "print(best_results.box.map50)  # mAP@0.5\n",
    "print(best_results.box.map75)  # mAP@0.75"
   ]
  },
  {
   "cell_type": "code",
   "execution_count": 9,
   "id": "fb970243-71a2-41d5-b70d-637c8fd322a4",
   "metadata": {},
   "outputs": [
    {
     "name": "stdout",
     "output_type": "stream",
     "text": [
      "0.3000627020975204\n"
     ]
    }
   ],
   "source": [
    "print(best_results.box.map75)  "
   ]
  },
  {
   "cell_type": "code",
   "execution_count": 8,
   "id": "148e83b8-170c-4a94-830c-42920b917009",
   "metadata": {},
   "outputs": [
    {
     "name": "stdout",
     "output_type": "stream",
     "text": [
      "0.5403427900006513\n"
     ]
    }
   ],
   "source": [
    "print(best_results.box.map50)  # mAP@0.5"
   ]
  },
  {
   "cell_type": "code",
   "execution_count": null,
   "id": "497b1461-589b-4e44-afd2-de48f839e78f",
   "metadata": {},
   "outputs": [],
   "source": [
    "best_results"
   ]
  },
  {
   "cell_type": "code",
   "execution_count": null,
   "id": "fb139c99-d188-4b08-9ec8-d66b48e81154",
   "metadata": {},
   "outputs": [],
   "source": [
    "model = YOLO(\"../../yolo11n.pt\")\n",
    "\n",
    "# Train with default settings (acts as a fair baseline)\n",
    "model.train(\n",
    "    data=\"traffic_data/traffic_data/data_1.yaml\",  # Your dataset config\n",
    "    epochs=40,\n",
    "    imgsz=640,\n",
    "    batch=16,\n",
    "    device=0,  # or \"cuda:0\"\n",
    "    project=\"traffic_training\",\n",
    "    name=\"yolo11n_baseline\",\n",
    "    save=True,\n",
    "    plots=True\n",
    ")"
   ]
  },
  {
   "cell_type": "code",
   "execution_count": 17,
   "id": "02fbd56a-5405-4313-8e55-b294e47e52b9",
   "metadata": {},
   "outputs": [
    {
     "name": "stdout",
     "output_type": "stream",
     "text": [
      "Ultralytics 8.3.153 🚀 Python-3.11.7 torch-2.6.0+cu124 CUDA:0 (NVIDIA A100 80GB PCIe, 81154MiB)\n",
      "YOLO11n summary (fused): 100 layers, 2,585,662 parameters, 0 gradients, 6.3 GFLOPs\n",
      "\u001B[34m\u001B[1mval: \u001B[0mFast image access ✅ (ping: 0.1±0.0 ms, read: 25.3±6.2 MB/s, size: 35.2 KB)\n"
     ]
    },
    {
     "name": "stderr",
     "output_type": "stream",
     "text": [
      "\u001B[34m\u001B[1mval: \u001B[0mScanning /pfs/data6/home/ds/ds_ds/ds_wi22202/traffic_data/traffic_data/valid/labels.cache... 300 images, 0 backgrounds, 0 corrupt: 100%|██████████| 300/300 [00:00<?, ?it/s]"
     ]
    },
    {
     "name": "stdout",
     "output_type": "stream",
     "text": [
      "\u001B[34m\u001B[1mval: \u001B[0m/pfs/data6/home/ds/ds_ds/ds_wi22202/traffic_data/traffic_data/valid/images/Pias--359-_PNG.rf.43bcf36efe5cf8c37552d2c45fffea60.jpg: 9 duplicate labels removed\n",
      "\u001B[34m\u001B[1mval: \u001B[0m/pfs/data6/home/ds/ds_ds/ds_wi22202/traffic_data/traffic_data/valid/images/Pias--360-_PNG.rf.8405b0e44009a9300e0a1100ccf7d5b3.jpg: 7 duplicate labels removed\n"
     ]
    },
    {
     "name": "stderr",
     "output_type": "stream",
     "text": [
      "\n",
      "                 Class     Images  Instances      Box(P          R      mAP50  mAP50-95): 100%|██████████| 19/19 [00:01<00:00, 10.34it/s]\n"
     ]
    },
    {
     "name": "stdout",
     "output_type": "stream",
     "text": [
      "                   all        300       2568      0.618      0.405      0.467      0.294\n",
      "               bicycle         30         32      0.756      0.312      0.355      0.142\n",
      "                   bus        220        425      0.812      0.448      0.616      0.392\n",
      "                   car        239        922      0.776      0.714       0.79      0.517\n",
      "               minibus          2          2      0.542        0.5      0.496      0.446\n",
      "               minivan         87        110      0.528      0.366      0.445      0.329\n",
      "             motorbike        166        335      0.715      0.439      0.515      0.174\n",
      "                pickup        105        142      0.664      0.254      0.373      0.227\n",
      "              rickshaw         62        192      0.718      0.635      0.687      0.429\n",
      "               scooter          1          1          0          0    0.00415   0.000829\n",
      "  three wheelers -CNG-        148        252      0.794      0.631      0.718      0.471\n",
      "                 truck         53         84      0.474       0.56      0.548      0.344\n",
      "                   van         52         62      0.259      0.242      0.191      0.129\n",
      "           wheelbarrow          9          9          1      0.164      0.329      0.223\n",
      "Speed: 0.2ms preprocess, 0.4ms inference, 0.0ms loss, 0.6ms postprocess per image\n",
      "Results saved to \u001B[1mtraffic_training/yolo11n_baseline2\u001B[0m\n"
     ]
    }
   ],
   "source": [
    "result =model.val(data=\"traffic_data/traffic_data/data_1.yaml\")"
   ]
  },
  {
   "cell_type": "code",
   "execution_count": 18,
   "id": "ae6e5993-c0c7-4865-ba0e-6b8e85f86103",
   "metadata": {},
   "outputs": [
    {
     "name": "stdout",
     "output_type": "stream",
     "text": [
      "0.2940217145082796\n",
      "0.4666291632607672\n",
      "0.3086789048616195\n"
     ]
    }
   ],
   "source": [
    "print(result.box.map)  # list of per-class mAP@0.5\n",
    "print(result.box.map50)  # mAP@0.5\n",
    "print(result.box.map75)  # mAP@0.75"
   ]
  },
  {
   "cell_type": "code",
   "id": "ae7654fe-b910-4e05-86bb-babfae4b2c66",
   "metadata": {},
   "source": [
    "from ultralytics import YOLO\n",
    "import torch\n",
    "\n",
    "# Load model\n",
    "model = YOLO(\"../../yolo11n.pt\")\n",
    "\n",
    "# Launch hyperparameter evolution\n",
    "model.tune(\n",
    "    data=\"traffic_data/traffic_data/data_1.yaml\",  # your dataset\n",
    "    epochs=40,\n",
    "    iterations=10, \n",
    "    device=0,\n",
    "    imgsz=640,\n",
    "    batch=16,\n",
    "    optimizer=\"auto\",               # or 'SGD', 'Adam', 'AdamW'\n",
    "    project=\"traffic_training\",\n",
    "    name=\"yolo11n_MAX\",\n",
    "    cache=True                      # cache images for speed\n",
    ")\n"
   ],
   "outputs": [],
   "execution_count": null
  },
  {
   "cell_type": "code",
   "execution_count": null,
   "id": "d473f17e-b342-405b-86d3-1b3010378e79",
   "metadata": {},
   "outputs": [],
   "source": []
  }
 ],
 "metadata": {
  "kernelspec": {
   "display_name": "Python 3 (ipykernel)",
   "language": "python",
   "name": "python3"
  },
  "language_info": {
   "codemirror_mode": {
    "name": "ipython",
    "version": 3
   },
   "file_extension": ".py",
   "mimetype": "text/x-python",
   "name": "python",
   "nbconvert_exporter": "python",
   "pygments_lexer": "ipython3",
   "version": "3.11.7"
  }
 },
 "nbformat": 4,
 "nbformat_minor": 5
}
