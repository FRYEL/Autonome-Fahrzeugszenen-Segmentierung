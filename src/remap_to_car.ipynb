{
 "cells": [
  {
   "cell_type": "code",
   "id": "initial_id",
   "metadata": {
    "collapsed": true,
    "ExecuteTime": {
     "end_time": "2025-06-12T11:27:33.736887Z",
     "start_time": "2025-06-12T11:27:32.925410Z"
    }
   },
   "source": [
    "import os\n",
    "\n",
    "# === CONFIG ===\n",
    "label_dirs = [\"../traffic_data/train/labels\", \"../traffic_data/valid/labels\"]\n",
    "remap = {12: 5, 15: 5, 16: 5}  # old → new class indices\n",
    "\n",
    "for label_dir in label_dirs:\n",
    "    for file in os.listdir(label_dir):\n",
    "        if not file.endswith(\".txt\"):\n",
    "            continue\n",
    "\n",
    "        path = os.path.join(label_dir, file)\n",
    "        new_lines = []\n",
    "\n",
    "        with open(path, \"r\") as f:\n",
    "            for line in f:\n",
    "                parts = line.strip().split()\n",
    "                if not parts:\n",
    "                    continue\n",
    "                cls = int(parts[0])\n",
    "                if cls in remap:\n",
    "                    cls = remap[cls]\n",
    "                new_line = \" \".join([str(cls)] + parts[1:])\n",
    "                new_lines.append(new_line)\n",
    "\n",
    "        # Overwrite with updated lines\n",
    "        with open(path, \"w\") as f:\n",
    "            f.write(\"\\n\".join(new_lines))\n"
   ],
   "outputs": [],
   "execution_count": 7
  },
  {
   "metadata": {
    "ExecuteTime": {
     "end_time": "2025-06-12T12:17:43.568027Z",
     "start_time": "2025-06-12T12:17:42.991302Z"
    }
   },
   "cell_type": "code",
   "source": [
    "import os\n",
    "\n",
    "# SHIFTING CLASSES > 12\n",
    "label_dirs = [\"../traffic_data/train/labels\", \"../traffic_data/valid/labels\"]\n",
    "\n",
    "# Classes that were removed (already mapped to class 5)\n",
    "removed_classes = [12, 15, 16]\n",
    "\n",
    "def final_shift(cls):\n",
    "    # Skip if already merged to 5\n",
    "    if cls == 5:\n",
    "        return 5\n",
    "    # Shift down if above removed ones\n",
    "    shift = sum(1 for r in removed_classes if cls > r)\n",
    "    return cls - shift\n",
    "\n",
    "for label_dir in label_dirs:\n",
    "    for file in os.listdir(label_dir):\n",
    "        if not file.endswith(\".txt\"):\n",
    "            continue\n",
    "        path = os.path.join(label_dir, file)\n",
    "        new_lines = []\n",
    "        with open(path, \"r\") as f:\n",
    "            for line in f:\n",
    "                parts = line.strip().split()\n",
    "                if not parts:\n",
    "                    continue\n",
    "                cls = int(parts[0])\n",
    "                new_cls = final_shift(cls)\n",
    "                new_line = \" \".join([str(new_cls)] + parts[1:])\n",
    "                new_lines.append(new_line)\n",
    "        with open(path, \"w\") as f:\n",
    "            f.write(\"\\n\".join(new_lines))\n"
   ],
   "id": "71168e54704d8dca",
   "outputs": [],
   "execution_count": 2
  }
 ],
 "metadata": {
  "kernelspec": {
   "display_name": "Python 3",
   "language": "python",
   "name": "python3"
  },
  "language_info": {
   "codemirror_mode": {
    "name": "ipython",
    "version": 2
   },
   "file_extension": ".py",
   "mimetype": "text/x-python",
   "name": "python",
   "nbconvert_exporter": "python",
   "pygments_lexer": "ipython2",
   "version": "2.7.6"
  }
 },
 "nbformat": 4,
 "nbformat_minor": 5
}
