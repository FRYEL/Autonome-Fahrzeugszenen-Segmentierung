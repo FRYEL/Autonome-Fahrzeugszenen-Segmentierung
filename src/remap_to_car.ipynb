{
 "cells": [
  {
   "cell_type": "code",
   "id": "initial_id",
   "metadata": {
    "collapsed": true,
    "ExecuteTime": {
     "end_time": "2025-06-12T11:27:33.736887Z",
     "start_time": "2025-06-12T11:27:32.925410Z"
    }
   },
   "source": [
    "import os\n",
    "\n",
    "# === CONFIG ===\n",
    "label_dirs = [\"../traffic_data/train/labels\", \"../traffic_data/valid/labels\"]\n",
    "remap = {12: 5, 15: 5, 16: 5}  # old → new class indices\n",
    "\n",
    "for label_dir in label_dirs:\n",
    "    for file in os.listdir(label_dir):\n",
    "        if not file.endswith(\".txt\"):\n",
    "            continue\n",
    "\n",
    "        path = os.path.join(label_dir, file)\n",
    "        new_lines = []\n",
    "\n",
    "        with open(path, \"r\") as f:\n",
    "            for line in f:\n",
    "                parts = line.strip().split()\n",
    "                if not parts:\n",
    "                    continue\n",
    "                cls = int(parts[0])\n",
    "                if cls in remap:\n",
    "                    cls = remap[cls]\n",
    "                new_line = \" \".join([str(cls)] + parts[1:])\n",
    "                new_lines.append(new_line)\n",
    "\n",
    "        # Overwrite with updated lines\n",
    "        with open(path, \"w\") as f:\n",
    "            f.write(\"\\n\".join(new_lines))\n"
   ],
   "outputs": [],
   "execution_count": 7
  }
 ],
 "metadata": {
  "kernelspec": {
   "display_name": "Python 3",
   "language": "python",
   "name": "python3"
  },
  "language_info": {
   "codemirror_mode": {
    "name": "ipython",
    "version": 2
   },
   "file_extension": ".py",
   "mimetype": "text/x-python",
   "name": "python",
   "nbconvert_exporter": "python",
   "pygments_lexer": "ipython2",
   "version": "2.7.6"
  }
 },
 "nbformat": 4,
 "nbformat_minor": 5
}
