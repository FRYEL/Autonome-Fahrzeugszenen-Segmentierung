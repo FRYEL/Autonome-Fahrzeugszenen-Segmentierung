{
 "cells": [
  {
   "cell_type": "code",
   "id": "initial_id",
   "metadata": {
    "collapsed": true,
    "ExecuteTime": {
     "end_time": "2025-06-24T07:39:49.076459Z",
     "start_time": "2025-06-24T07:39:49.036197Z"
    }
   },
   "source": [
    "import pandas as pd\n",
    "from ultralytics import YOLO"
   ],
   "outputs": [],
   "execution_count": 21
  },
  {
   "metadata": {
    "ExecuteTime": {
     "end_time": "2025-06-24T07:40:01.156025Z",
     "start_time": "2025-06-24T07:39:59.872378Z"
    }
   },
   "cell_type": "code",
   "source": [
    "model = YOLO(\"../traffic_training/best_tuning/train37/weights/best.pt\")\n",
    "results = model.predict(source=\"../../traffic_data/valid/images/Pias--289-_jpg.rf.a6cb4e0f81f99b7c803bd9c9832163da.jpg\", conf=0.25, iou=0.45)\n",
    "for result in results:\n",
    "    result.show()\n",
    "    result.save()  # Save results to disk"
   ],
   "id": "d6952116a61e53f1",
   "outputs": [
    {
     "name": "stdout",
     "output_type": "stream",
     "text": [
      "\n",
      "image 1/1 /Users/yelf/PycharmProjects/Autonome-Fahrzeugszenen-Segmentierung/src/inference/../../traffic_data/valid/images/Pias--289-_jpg.rf.a6cb4e0f81f99b7c803bd9c9832163da.jpg: 384x640 3 buss, 4 cars, 1 motorbike, 1 pickup, 197.1ms\n",
      "Speed: 5.7ms preprocess, 197.1ms inference, 48.6ms postprocess per image at shape (1, 3, 384, 640)\n"
     ]
    }
   ],
   "execution_count": 23
  },
  {
   "metadata": {
    "ExecuteTime": {
     "end_time": "2025-06-24T07:39:52.308885Z",
     "start_time": "2025-06-24T07:39:51.226577Z"
    }
   },
   "cell_type": "code",
   "source": [
    "model2 = YOLO(\"../traffic_training/yolo11n_baseline/weights/best.pt\")  # Load the latest model from training\n",
    "results2 = model2.predict(source=\"../../traffic_data/valid/images/Pias--289-_jpg.rf.a6cb4e0f81f99b7c803bd9c9832163da.jpg\", conf=0.25, iou=0.45)\n",
    "for result in results2:\n",
    "    result.show()\n",
    "    result.save()  # Save results to disk"
   ],
   "id": "8a107224c32ca3c8",
   "outputs": [
    {
     "name": "stdout",
     "output_type": "stream",
     "text": [
      "\n",
      "image 1/1 /Users/yelf/PycharmProjects/Autonome-Fahrzeugszenen-Segmentierung/src/inference/../../traffic_data/valid/images/Pias--289-_jpg.rf.a6cb4e0f81f99b7c803bd9c9832163da.jpg: 384x640 2 buss, 4 cars, 1 motorbike, 2 pickups, 1 truck, 111.8ms\n",
      "Speed: 13.7ms preprocess, 111.8ms inference, 49.7ms postprocess per image at shape (1, 3, 384, 640)\n"
     ]
    }
   ],
   "execution_count": 22
  },
  {
   "metadata": {
    "ExecuteTime": {
     "end_time": "2025-06-11T08:14:03.639891Z",
     "start_time": "2025-06-11T08:14:03.541007Z"
    }
   },
   "cell_type": "code",
   "source": "results3 = model.predict(source=\"../inference/inference_images/img_2.png\", conf=0.25, iou=0.45)\n",
   "id": "3f53f894689bdc13",
   "outputs": [
    {
     "name": "stdout",
     "output_type": "stream",
     "text": [
      "\n",
      "image 1/1 C:\\Users\\furka\\PycharmProjects\\Autonome-Fahrzeugszenen-Segmentierung\\src\\inference\\..\\inference\\inference_images\\img_2.png: 448x640 3 cars, 1 motorbike, 61.8ms\n",
      "Speed: 4.9ms preprocess, 61.8ms inference, 3.5ms postprocess per image at shape (1, 3, 448, 640)\n"
     ]
    }
   ],
   "execution_count": 27
  },
  {
   "metadata": {
    "ExecuteTime": {
     "end_time": "2025-06-11T08:14:05.029830Z",
     "start_time": "2025-06-11T08:14:04.942954Z"
    }
   },
   "cell_type": "code",
   "source": [
    "for result in results3:\n",
    "    result.show()"
   ],
   "id": "b2b9012a98c27b9",
   "outputs": [],
   "execution_count": 28
  },
  {
   "metadata": {
    "ExecuteTime": {
     "end_time": "2025-06-11T08:07:44.340198Z",
     "start_time": "2025-06-11T08:07:43.297200Z"
    }
   },
   "cell_type": "code",
   "source": [
    "for result in results:\n",
    "    result.show()  # Display results\n",
    "    #result.save()  # Save results to disk"
   ],
   "id": "88ceeabe37be4006",
   "outputs": [],
   "execution_count": 21
  },
  {
   "metadata": {},
   "cell_type": "markdown",
   "source": "Untrained standard Yolov8n model inference testing",
   "id": "3bfec7811708c90f"
  },
  {
   "metadata": {
    "ExecuteTime": {
     "end_time": "2025-06-11T09:35:45.508639Z",
     "start_time": "2025-06-11T09:35:45.420551Z"
    }
   },
   "cell_type": "code",
   "source": "model2 = YOLO(\"../yolov8n.pt\")",
   "id": "ab09ccf2dffb58b5",
   "outputs": [],
   "execution_count": 29
  },
  {
   "metadata": {
    "ExecuteTime": {
     "end_time": "2025-06-11T09:38:11.284187Z",
     "start_time": "2025-06-11T09:38:11.076183Z"
    }
   },
   "cell_type": "code",
   "source": "results2 = model2.predict(source=\"../inference/inference_images/img_2.png\", conf=0.25, iou=0.45)\n",
   "id": "289600564aada5eb",
   "outputs": [
    {
     "name": "stdout",
     "output_type": "stream",
     "text": [
      "\n",
      "image 1/1 C:\\Users\\furka\\PycharmProjects\\Autonome-Fahrzeugszenen-Segmentierung\\src\\inference\\..\\inference\\inference_images\\img_2.png: 640x480 1 dog, 91.8ms\n",
      "Speed: 5.6ms preprocess, 91.8ms inference, 11.5ms postprocess per image at shape (1, 3, 640, 480)\n"
     ]
    }
   ],
   "execution_count": 33
  },
  {
   "metadata": {
    "ExecuteTime": {
     "end_time": "2025-06-11T09:38:13.337805Z",
     "start_time": "2025-06-11T09:38:12.944560Z"
    }
   },
   "cell_type": "code",
   "source": [
    "for result2 in results2:\n",
    "    result2.show()  # Display results\n",
    "    #result2.save()  # Save results to disk"
   ],
   "id": "73693ee9eb15b509",
   "outputs": [],
   "execution_count": 34
  }
 ],
 "metadata": {
  "kernelspec": {
   "display_name": "Python 3",
   "language": "python",
   "name": "python3"
  },
  "language_info": {
   "codemirror_mode": {
    "name": "ipython",
    "version": 2
   },
   "file_extension": ".py",
   "mimetype": "text/x-python",
   "name": "python",
   "nbconvert_exporter": "python",
   "pygments_lexer": "ipython2",
   "version": "2.7.6"
  }
 },
 "nbformat": 4,
 "nbformat_minor": 5
}
