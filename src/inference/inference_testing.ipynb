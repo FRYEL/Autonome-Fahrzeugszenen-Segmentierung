{
 "cells": [
  {
   "cell_type": "code",
   "id": "initial_id",
   "metadata": {
    "collapsed": true,
    "ExecuteTime": {
     "end_time": "2025-06-11T07:58:29.211328Z",
     "start_time": "2025-06-11T07:58:29.206331Z"
    }
   },
   "source": [
    "import pandas as pd\n",
    "from ultralytics import YOLO"
   ],
   "outputs": [],
   "execution_count": 4
  },
  {
   "metadata": {
    "ExecuteTime": {
     "end_time": "2025-06-11T07:59:33.770893Z",
     "start_time": "2025-06-11T07:59:33.592182Z"
    }
   },
   "cell_type": "code",
   "source": "model = YOLO(\"../traffic_training/traffic_yolov8n/weights/best.pt\")",
   "id": "ac0dfa06606b73f0",
   "outputs": [],
   "execution_count": 8
  },
  {
   "metadata": {
    "ExecuteTime": {
     "end_time": "2025-06-11T08:00:04.979673Z",
     "start_time": "2025-06-11T08:00:04.811511Z"
    }
   },
   "cell_type": "code",
   "source": "results = model.predict(source=\"../inference/inference_testing/inference_images/img.png\", conf=0.25, iou=0.45)\n",
   "id": "d6952116a61e53f1",
   "outputs": [
    {
     "name": "stdout",
     "output_type": "stream",
     "text": [
      "\n"
     ]
    },
    {
     "ename": "FileNotFoundError",
     "evalue": "../inference/inference_testing/inference_images/img.png does not exist",
     "output_type": "error",
     "traceback": [
      "\u001B[31m---------------------------------------------------------------------------\u001B[39m",
      "\u001B[31mFileNotFoundError\u001B[39m                         Traceback (most recent call last)",
      "\u001B[36mCell\u001B[39m\u001B[36m \u001B[39m\u001B[32mIn[11]\u001B[39m\u001B[32m, line 1\u001B[39m\n\u001B[32m----> \u001B[39m\u001B[32m1\u001B[39m results = \u001B[43mmodel\u001B[49m\u001B[43m.\u001B[49m\u001B[43mpredict\u001B[49m\u001B[43m(\u001B[49m\u001B[43msource\u001B[49m\u001B[43m=\u001B[49m\u001B[33;43m\"\u001B[39;49m\u001B[33;43m../inference/inference_testing/inference_images/img.png\u001B[39;49m\u001B[33;43m\"\u001B[39;49m\u001B[43m,\u001B[49m\u001B[43m \u001B[49m\u001B[43mconf\u001B[49m\u001B[43m=\u001B[49m\u001B[32;43m0.25\u001B[39;49m\u001B[43m,\u001B[49m\u001B[43m \u001B[49m\u001B[43miou\u001B[49m\u001B[43m=\u001B[49m\u001B[32;43m0.45\u001B[39;49m\u001B[43m)\u001B[49m\n",
      "\u001B[36mFile \u001B[39m\u001B[32m~\\PycharmProjects\\Bierprojekt\\.venv\\Lib\\site-packages\\ultralytics\\engine\\model.py:555\u001B[39m, in \u001B[36mModel.predict\u001B[39m\u001B[34m(self, source, stream, predictor, **kwargs)\u001B[39m\n\u001B[32m    553\u001B[39m \u001B[38;5;28;01mif\u001B[39;00m prompts \u001B[38;5;129;01mand\u001B[39;00m \u001B[38;5;28mhasattr\u001B[39m(\u001B[38;5;28mself\u001B[39m.predictor, \u001B[33m\"\u001B[39m\u001B[33mset_prompts\u001B[39m\u001B[33m\"\u001B[39m):  \u001B[38;5;66;03m# for SAM-type models\u001B[39;00m\n\u001B[32m    554\u001B[39m     \u001B[38;5;28mself\u001B[39m.predictor.set_prompts(prompts)\n\u001B[32m--> \u001B[39m\u001B[32m555\u001B[39m \u001B[38;5;28;01mreturn\u001B[39;00m \u001B[38;5;28mself\u001B[39m.predictor.predict_cli(source=source) \u001B[38;5;28;01mif\u001B[39;00m is_cli \u001B[38;5;28;01melse\u001B[39;00m \u001B[38;5;28;43mself\u001B[39;49m\u001B[43m.\u001B[49m\u001B[43mpredictor\u001B[49m\u001B[43m(\u001B[49m\u001B[43msource\u001B[49m\u001B[43m=\u001B[49m\u001B[43msource\u001B[49m\u001B[43m,\u001B[49m\u001B[43m \u001B[49m\u001B[43mstream\u001B[49m\u001B[43m=\u001B[49m\u001B[43mstream\u001B[49m\u001B[43m)\u001B[49m\n",
      "\u001B[36mFile \u001B[39m\u001B[32m~\\PycharmProjects\\Bierprojekt\\.venv\\Lib\\site-packages\\ultralytics\\engine\\predictor.py:227\u001B[39m, in \u001B[36mBasePredictor.__call__\u001B[39m\u001B[34m(self, source, model, stream, *args, **kwargs)\u001B[39m\n\u001B[32m    225\u001B[39m     \u001B[38;5;28;01mreturn\u001B[39;00m \u001B[38;5;28mself\u001B[39m.stream_inference(source, model, *args, **kwargs)\n\u001B[32m    226\u001B[39m \u001B[38;5;28;01melse\u001B[39;00m:\n\u001B[32m--> \u001B[39m\u001B[32m227\u001B[39m     \u001B[38;5;28;01mreturn\u001B[39;00m \u001B[38;5;28;43mlist\u001B[39;49m\u001B[43m(\u001B[49m\u001B[38;5;28;43mself\u001B[39;49m\u001B[43m.\u001B[49m\u001B[43mstream_inference\u001B[49m\u001B[43m(\u001B[49m\u001B[43msource\u001B[49m\u001B[43m,\u001B[49m\u001B[43m \u001B[49m\u001B[43mmodel\u001B[49m\u001B[43m,\u001B[49m\u001B[43m \u001B[49m\u001B[43m*\u001B[49m\u001B[43margs\u001B[49m\u001B[43m,\u001B[49m\u001B[43m \u001B[49m\u001B[43m*\u001B[49m\u001B[43m*\u001B[49m\u001B[43mkwargs\u001B[49m\u001B[43m)\u001B[49m\u001B[43m)\u001B[49m\n",
      "\u001B[36mFile \u001B[39m\u001B[32m~\\PycharmProjects\\Bierprojekt\\.venv\\Lib\\site-packages\\torch\\utils\\_contextlib.py:36\u001B[39m, in \u001B[36m_wrap_generator.<locals>.generator_context\u001B[39m\u001B[34m(*args, **kwargs)\u001B[39m\n\u001B[32m     33\u001B[39m \u001B[38;5;28;01mtry\u001B[39;00m:\n\u001B[32m     34\u001B[39m     \u001B[38;5;66;03m# Issuing `None` to a generator fires it up\u001B[39;00m\n\u001B[32m     35\u001B[39m     \u001B[38;5;28;01mwith\u001B[39;00m ctx_factory():\n\u001B[32m---> \u001B[39m\u001B[32m36\u001B[39m         response = \u001B[43mgen\u001B[49m\u001B[43m.\u001B[49m\u001B[43msend\u001B[49m\u001B[43m(\u001B[49m\u001B[38;5;28;43;01mNone\u001B[39;49;00m\u001B[43m)\u001B[49m\n\u001B[32m     38\u001B[39m     \u001B[38;5;28;01mwhile\u001B[39;00m \u001B[38;5;28;01mTrue\u001B[39;00m:\n\u001B[32m     39\u001B[39m         \u001B[38;5;28;01mtry\u001B[39;00m:\n\u001B[32m     40\u001B[39m             \u001B[38;5;66;03m# Forward the response to our caller and get its next request\u001B[39;00m\n",
      "\u001B[36mFile \u001B[39m\u001B[32m~\\PycharmProjects\\Bierprojekt\\.venv\\Lib\\site-packages\\ultralytics\\engine\\predictor.py:300\u001B[39m, in \u001B[36mBasePredictor.stream_inference\u001B[39m\u001B[34m(self, source, model, *args, **kwargs)\u001B[39m\n\u001B[32m    296\u001B[39m     \u001B[38;5;28mself\u001B[39m.setup_model(model)\n\u001B[32m    298\u001B[39m \u001B[38;5;28;01mwith\u001B[39;00m \u001B[38;5;28mself\u001B[39m._lock:  \u001B[38;5;66;03m# for thread-safe inference\u001B[39;00m\n\u001B[32m    299\u001B[39m     \u001B[38;5;66;03m# Setup source every time predict is called\u001B[39;00m\n\u001B[32m--> \u001B[39m\u001B[32m300\u001B[39m     \u001B[38;5;28;43mself\u001B[39;49m\u001B[43m.\u001B[49m\u001B[43msetup_source\u001B[49m\u001B[43m(\u001B[49m\u001B[43msource\u001B[49m\u001B[43m \u001B[49m\u001B[38;5;28;43;01mif\u001B[39;49;00m\u001B[43m \u001B[49m\u001B[43msource\u001B[49m\u001B[43m \u001B[49m\u001B[38;5;129;43;01mis\u001B[39;49;00m\u001B[43m \u001B[49m\u001B[38;5;129;43;01mnot\u001B[39;49;00m\u001B[43m \u001B[49m\u001B[38;5;28;43;01mNone\u001B[39;49;00m\u001B[43m \u001B[49m\u001B[38;5;28;43;01melse\u001B[39;49;00m\u001B[43m \u001B[49m\u001B[38;5;28;43mself\u001B[39;49m\u001B[43m.\u001B[49m\u001B[43margs\u001B[49m\u001B[43m.\u001B[49m\u001B[43msource\u001B[49m\u001B[43m)\u001B[49m\n\u001B[32m    302\u001B[39m     \u001B[38;5;66;03m# Check if save_dir/ label file exists\u001B[39;00m\n\u001B[32m    303\u001B[39m     \u001B[38;5;28;01mif\u001B[39;00m \u001B[38;5;28mself\u001B[39m.args.save \u001B[38;5;129;01mor\u001B[39;00m \u001B[38;5;28mself\u001B[39m.args.save_txt:\n",
      "\u001B[36mFile \u001B[39m\u001B[32m~\\PycharmProjects\\Bierprojekt\\.venv\\Lib\\site-packages\\ultralytics\\engine\\predictor.py:259\u001B[39m, in \u001B[36mBasePredictor.setup_source\u001B[39m\u001B[34m(self, source)\u001B[39m\n\u001B[32m    251\u001B[39m \u001B[38;5;250m\u001B[39m\u001B[33;03m\"\"\"\u001B[39;00m\n\u001B[32m    252\u001B[39m \u001B[33;03mSet up source and inference mode.\u001B[39;00m\n\u001B[32m    253\u001B[39m \n\u001B[32m   (...)\u001B[39m\u001B[32m    256\u001B[39m \u001B[33;03m        Source for inference.\u001B[39;00m\n\u001B[32m    257\u001B[39m \u001B[33;03m\"\"\"\u001B[39;00m\n\u001B[32m    258\u001B[39m \u001B[38;5;28mself\u001B[39m.imgsz = check_imgsz(\u001B[38;5;28mself\u001B[39m.args.imgsz, stride=\u001B[38;5;28mself\u001B[39m.model.stride, min_dim=\u001B[32m2\u001B[39m)  \u001B[38;5;66;03m# check image size\u001B[39;00m\n\u001B[32m--> \u001B[39m\u001B[32m259\u001B[39m \u001B[38;5;28mself\u001B[39m.dataset = \u001B[43mload_inference_source\u001B[49m\u001B[43m(\u001B[49m\n\u001B[32m    260\u001B[39m \u001B[43m    \u001B[49m\u001B[43msource\u001B[49m\u001B[43m=\u001B[49m\u001B[43msource\u001B[49m\u001B[43m,\u001B[49m\n\u001B[32m    261\u001B[39m \u001B[43m    \u001B[49m\u001B[43mbatch\u001B[49m\u001B[43m=\u001B[49m\u001B[38;5;28;43mself\u001B[39;49m\u001B[43m.\u001B[49m\u001B[43margs\u001B[49m\u001B[43m.\u001B[49m\u001B[43mbatch\u001B[49m\u001B[43m,\u001B[49m\n\u001B[32m    262\u001B[39m \u001B[43m    \u001B[49m\u001B[43mvid_stride\u001B[49m\u001B[43m=\u001B[49m\u001B[38;5;28;43mself\u001B[39;49m\u001B[43m.\u001B[49m\u001B[43margs\u001B[49m\u001B[43m.\u001B[49m\u001B[43mvid_stride\u001B[49m\u001B[43m,\u001B[49m\n\u001B[32m    263\u001B[39m \u001B[43m    \u001B[49m\u001B[43mbuffer\u001B[49m\u001B[43m=\u001B[49m\u001B[38;5;28;43mself\u001B[39;49m\u001B[43m.\u001B[49m\u001B[43margs\u001B[49m\u001B[43m.\u001B[49m\u001B[43mstream_buffer\u001B[49m\u001B[43m,\u001B[49m\n\u001B[32m    264\u001B[39m \u001B[43m    \u001B[49m\u001B[43mchannels\u001B[49m\u001B[43m=\u001B[49m\u001B[38;5;28;43mgetattr\u001B[39;49m\u001B[43m(\u001B[49m\u001B[38;5;28;43mself\u001B[39;49m\u001B[43m.\u001B[49m\u001B[43mmodel\u001B[49m\u001B[43m,\u001B[49m\u001B[43m \u001B[49m\u001B[33;43m\"\u001B[39;49m\u001B[33;43mch\u001B[39;49m\u001B[33;43m\"\u001B[39;49m\u001B[43m,\u001B[49m\u001B[43m \u001B[49m\u001B[32;43m3\u001B[39;49m\u001B[43m)\u001B[49m\u001B[43m,\u001B[49m\n\u001B[32m    265\u001B[39m \u001B[43m\u001B[49m\u001B[43m)\u001B[49m\n\u001B[32m    266\u001B[39m \u001B[38;5;28mself\u001B[39m.source_type = \u001B[38;5;28mself\u001B[39m.dataset.source_type\n\u001B[32m    267\u001B[39m \u001B[38;5;28;01mif\u001B[39;00m \u001B[38;5;129;01mnot\u001B[39;00m \u001B[38;5;28mgetattr\u001B[39m(\u001B[38;5;28mself\u001B[39m, \u001B[33m\"\u001B[39m\u001B[33mstream\u001B[39m\u001B[33m\"\u001B[39m, \u001B[38;5;28;01mTrue\u001B[39;00m) \u001B[38;5;129;01mand\u001B[39;00m (\n\u001B[32m    268\u001B[39m     \u001B[38;5;28mself\u001B[39m.source_type.stream\n\u001B[32m    269\u001B[39m     \u001B[38;5;129;01mor\u001B[39;00m \u001B[38;5;28mself\u001B[39m.source_type.screenshot\n\u001B[32m    270\u001B[39m     \u001B[38;5;129;01mor\u001B[39;00m \u001B[38;5;28mlen\u001B[39m(\u001B[38;5;28mself\u001B[39m.dataset) > \u001B[32m1000\u001B[39m  \u001B[38;5;66;03m# many images\u001B[39;00m\n\u001B[32m    271\u001B[39m     \u001B[38;5;129;01mor\u001B[39;00m \u001B[38;5;28many\u001B[39m(\u001B[38;5;28mgetattr\u001B[39m(\u001B[38;5;28mself\u001B[39m.dataset, \u001B[33m\"\u001B[39m\u001B[33mvideo_flag\u001B[39m\u001B[33m\"\u001B[39m, [\u001B[38;5;28;01mFalse\u001B[39;00m]))\n\u001B[32m    272\u001B[39m ):  \u001B[38;5;66;03m# videos\u001B[39;00m\n",
      "\u001B[36mFile \u001B[39m\u001B[32m~\\PycharmProjects\\Bierprojekt\\.venv\\Lib\\site-packages\\ultralytics\\data\\build.py:278\u001B[39m, in \u001B[36mload_inference_source\u001B[39m\u001B[34m(source, batch, vid_stride, buffer, channels)\u001B[39m\n\u001B[32m    276\u001B[39m     dataset = LoadPilAndNumpy(source, channels=channels)\n\u001B[32m    277\u001B[39m \u001B[38;5;28;01melse\u001B[39;00m:\n\u001B[32m--> \u001B[39m\u001B[32m278\u001B[39m     dataset = \u001B[43mLoadImagesAndVideos\u001B[49m\u001B[43m(\u001B[49m\u001B[43msource\u001B[49m\u001B[43m,\u001B[49m\u001B[43m \u001B[49m\u001B[43mbatch\u001B[49m\u001B[43m=\u001B[49m\u001B[43mbatch\u001B[49m\u001B[43m,\u001B[49m\u001B[43m \u001B[49m\u001B[43mvid_stride\u001B[49m\u001B[43m=\u001B[49m\u001B[43mvid_stride\u001B[49m\u001B[43m,\u001B[49m\u001B[43m \u001B[49m\u001B[43mchannels\u001B[49m\u001B[43m=\u001B[49m\u001B[43mchannels\u001B[49m\u001B[43m)\u001B[49m\n\u001B[32m    280\u001B[39m \u001B[38;5;66;03m# Attach source types to the dataset\u001B[39;00m\n\u001B[32m    281\u001B[39m \u001B[38;5;28msetattr\u001B[39m(dataset, \u001B[33m\"\u001B[39m\u001B[33msource_type\u001B[39m\u001B[33m\"\u001B[39m, source_type)\n",
      "\u001B[36mFile \u001B[39m\u001B[32m~\\PycharmProjects\\Bierprojekt\\.venv\\Lib\\site-packages\\ultralytics\\data\\loaders.py:373\u001B[39m, in \u001B[36mLoadImagesAndVideos.__init__\u001B[39m\u001B[34m(self, path, batch, vid_stride, channels)\u001B[39m\n\u001B[32m    371\u001B[39m         files.append(\u001B[38;5;28mstr\u001B[39m((parent / p).absolute()))  \u001B[38;5;66;03m# files (relative to *.txt file parent)\u001B[39;00m\n\u001B[32m    372\u001B[39m     \u001B[38;5;28;01melse\u001B[39;00m:\n\u001B[32m--> \u001B[39m\u001B[32m373\u001B[39m         \u001B[38;5;28;01mraise\u001B[39;00m \u001B[38;5;167;01mFileNotFoundError\u001B[39;00m(\u001B[33mf\u001B[39m\u001B[33m\"\u001B[39m\u001B[38;5;132;01m{\u001B[39;00mp\u001B[38;5;132;01m}\u001B[39;00m\u001B[33m does not exist\u001B[39m\u001B[33m\"\u001B[39m)\n\u001B[32m    375\u001B[39m \u001B[38;5;66;03m# Define files as images or videos\u001B[39;00m\n\u001B[32m    376\u001B[39m images, videos = [], []\n",
      "\u001B[31mFileNotFoundError\u001B[39m: ../inference/inference_testing/inference_images/img.png does not exist"
     ]
    }
   ],
   "execution_count": 11
  },
  {
   "metadata": {},
   "cell_type": "code",
   "outputs": [],
   "execution_count": null,
   "source": [
    "for result in results:\n",
    "    result.show()  # Display results\n",
    "    result.save()  # Save results to disk"
   ],
   "id": "88ceeabe37be4006"
  }
 ],
 "metadata": {
  "kernelspec": {
   "display_name": "Python 3",
   "language": "python",
   "name": "python3"
  },
  "language_info": {
   "codemirror_mode": {
    "name": "ipython",
    "version": 2
   },
   "file_extension": ".py",
   "mimetype": "text/x-python",
   "name": "python",
   "nbconvert_exporter": "python",
   "pygments_lexer": "ipython2",
   "version": "2.7.6"
  }
 },
 "nbformat": 4,
 "nbformat_minor": 5
}
